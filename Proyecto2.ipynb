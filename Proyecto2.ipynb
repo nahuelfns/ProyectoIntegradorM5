{
 "cells": [
  {
   "cell_type": "code",
   "execution_count": 4,
   "metadata": {},
   "outputs": [],
   "source": [
    "import pandas as pd"
   ]
  },
  {
   "cell_type": "code",
   "execution_count": 6,
   "metadata": {},
   "outputs": [
    {
     "name": "stderr",
     "output_type": "stream",
     "text": [
      "C:\\Users\\nahue\\AppData\\Local\\Temp\\ipykernel_12720\\1498292852.py:1: DtypeWarning: Columns (2) have mixed types. Specify dtype option on import or set low_memory=False.\n",
      "  df = pd.read_csv('Call_Center_1999_DataSet.csv', delimiter=';')\n"
     ]
    }
   ],
   "source": [
    "df = pd.read_csv('Call_Center_1999_DataSet.csv', delimiter=';')"
   ]
  },
  {
   "cell_type": "code",
   "execution_count": 7,
   "metadata": {},
   "outputs": [
    {
     "data": {
      "text/html": [
       "<div>\n",
       "<style scoped>\n",
       "    .dataframe tbody tr th:only-of-type {\n",
       "        vertical-align: middle;\n",
       "    }\n",
       "\n",
       "    .dataframe tbody tr th {\n",
       "        vertical-align: top;\n",
       "    }\n",
       "\n",
       "    .dataframe thead th {\n",
       "        text-align: right;\n",
       "    }\n",
       "</style>\n",
       "<table border=\"1\" class=\"dataframe\">\n",
       "  <thead>\n",
       "    <tr style=\"text-align: right;\">\n",
       "      <th></th>\n",
       "      <th>vru.line</th>\n",
       "      <th>call_id</th>\n",
       "      <th>customer_id</th>\n",
       "      <th>priority</th>\n",
       "      <th>type</th>\n",
       "      <th>date</th>\n",
       "      <th>vru_entry</th>\n",
       "      <th>vru_exit</th>\n",
       "      <th>vru_time</th>\n",
       "      <th>q_start</th>\n",
       "      <th>q_exit</th>\n",
       "      <th>q_time</th>\n",
       "      <th>outcome</th>\n",
       "      <th>ser_start</th>\n",
       "      <th>ser_exit</th>\n",
       "      <th>ser_time</th>\n",
       "      <th>server</th>\n",
       "      <th>startdate</th>\n",
       "    </tr>\n",
       "  </thead>\n",
       "  <tbody>\n",
       "    <tr>\n",
       "      <th>0</th>\n",
       "      <td>AA0101</td>\n",
       "      <td>33116</td>\n",
       "      <td>9664491.0</td>\n",
       "      <td>2</td>\n",
       "      <td>PS</td>\n",
       "      <td>1999-01-01</td>\n",
       "      <td>0:00:31</td>\n",
       "      <td>0:00:36</td>\n",
       "      <td>5</td>\n",
       "      <td>0:00:36</td>\n",
       "      <td>0:03:09</td>\n",
       "      <td>153</td>\n",
       "      <td>HANG</td>\n",
       "      <td>0:00:00</td>\n",
       "      <td>0:00:00</td>\n",
       "      <td>0</td>\n",
       "      <td>NO_SERVER</td>\n",
       "      <td>0</td>\n",
       "    </tr>\n",
       "    <tr>\n",
       "      <th>1</th>\n",
       "      <td>AA0101</td>\n",
       "      <td>33117</td>\n",
       "      <td>0.0</td>\n",
       "      <td>0</td>\n",
       "      <td>PS</td>\n",
       "      <td>1999-01-01</td>\n",
       "      <td>0:34:12</td>\n",
       "      <td>0:34:23</td>\n",
       "      <td>11</td>\n",
       "      <td>0:00:00</td>\n",
       "      <td>0:00:00</td>\n",
       "      <td>0</td>\n",
       "      <td>HANG</td>\n",
       "      <td>0:00:00</td>\n",
       "      <td>0:00:00</td>\n",
       "      <td>0</td>\n",
       "      <td>NO_SERVER</td>\n",
       "      <td>0</td>\n",
       "    </tr>\n",
       "    <tr>\n",
       "      <th>2</th>\n",
       "      <td>AA0101</td>\n",
       "      <td>33118</td>\n",
       "      <td>27997683.0</td>\n",
       "      <td>2</td>\n",
       "      <td>PS</td>\n",
       "      <td>1999-01-01</td>\n",
       "      <td>6:55:20</td>\n",
       "      <td>6:55:26</td>\n",
       "      <td>6</td>\n",
       "      <td>6:55:26</td>\n",
       "      <td>6:55:43</td>\n",
       "      <td>17</td>\n",
       "      <td>AGENT</td>\n",
       "      <td>6:55:43</td>\n",
       "      <td>6:56:37</td>\n",
       "      <td>54</td>\n",
       "      <td>MICHAL</td>\n",
       "      <td>0</td>\n",
       "    </tr>\n",
       "    <tr>\n",
       "      <th>3</th>\n",
       "      <td>AA0101</td>\n",
       "      <td>33119</td>\n",
       "      <td>0.0</td>\n",
       "      <td>0</td>\n",
       "      <td>PS</td>\n",
       "      <td>1999-01-01</td>\n",
       "      <td>7:41:16</td>\n",
       "      <td>7:41:26</td>\n",
       "      <td>10</td>\n",
       "      <td>0:00:00</td>\n",
       "      <td>0:00:00</td>\n",
       "      <td>0</td>\n",
       "      <td>AGENT</td>\n",
       "      <td>7:41:25</td>\n",
       "      <td>7:44:53</td>\n",
       "      <td>208</td>\n",
       "      <td>BASCH</td>\n",
       "      <td>0</td>\n",
       "    </tr>\n",
       "    <tr>\n",
       "      <th>4</th>\n",
       "      <td>AA0101</td>\n",
       "      <td>33120</td>\n",
       "      <td>0.0</td>\n",
       "      <td>0</td>\n",
       "      <td>PS</td>\n",
       "      <td>1999-01-01</td>\n",
       "      <td>8:03:14</td>\n",
       "      <td>8:03:24</td>\n",
       "      <td>10</td>\n",
       "      <td>0:00:00</td>\n",
       "      <td>0:00:00</td>\n",
       "      <td>0</td>\n",
       "      <td>AGENT</td>\n",
       "      <td>8:03:23</td>\n",
       "      <td>8:05:10</td>\n",
       "      <td>107</td>\n",
       "      <td>MICHAL</td>\n",
       "      <td>0</td>\n",
       "    </tr>\n",
       "  </tbody>\n",
       "</table>\n",
       "</div>"
      ],
      "text/plain": [
       "  vru.line  call_id customer_id  priority type        date vru_entry vru_exit  \\\n",
       "0   AA0101    33116   9664491.0         2   PS  1999-01-01   0:00:31  0:00:36   \n",
       "1   AA0101    33117         0.0         0   PS  1999-01-01   0:34:12  0:34:23   \n",
       "2   AA0101    33118  27997683.0         2   PS  1999-01-01   6:55:20  6:55:26   \n",
       "3   AA0101    33119         0.0         0   PS  1999-01-01   7:41:16  7:41:26   \n",
       "4   AA0101    33120         0.0         0   PS  1999-01-01   8:03:14  8:03:24   \n",
       "\n",
       "   vru_time  q_start   q_exit  q_time outcome ser_start ser_exit  ser_time  \\\n",
       "0         5  0:00:36  0:03:09     153    HANG   0:00:00  0:00:00         0   \n",
       "1        11  0:00:00  0:00:00       0    HANG   0:00:00  0:00:00         0   \n",
       "2         6  6:55:26  6:55:43      17   AGENT   6:55:43  6:56:37        54   \n",
       "3        10  0:00:00  0:00:00       0   AGENT   7:41:25  7:44:53       208   \n",
       "4        10  0:00:00  0:00:00       0   AGENT   8:03:23  8:05:10       107   \n",
       "\n",
       "      server  startdate  \n",
       "0  NO_SERVER          0  \n",
       "1  NO_SERVER          0  \n",
       "2     MICHAL          0  \n",
       "3      BASCH          0  \n",
       "4     MICHAL          0  "
      ]
     },
     "execution_count": 7,
     "metadata": {},
     "output_type": "execute_result"
    }
   ],
   "source": [
    "df.head()"
   ]
  },
  {
   "cell_type": "code",
   "execution_count": 8,
   "metadata": {},
   "outputs": [
    {
     "name": "stdout",
     "output_type": "stream",
     "text": [
      "<class 'pandas.core.frame.DataFrame'>\n",
      "RangeIndex: 444448 entries, 0 to 444447\n",
      "Data columns (total 18 columns):\n",
      " #   Column       Non-Null Count   Dtype \n",
      "---  ------       --------------   ----- \n",
      " 0   vru.line     444448 non-null  object\n",
      " 1   call_id      444448 non-null  int64 \n",
      " 2   customer_id  444448 non-null  object\n",
      " 3   priority     444448 non-null  int64 \n",
      " 4   type         444448 non-null  object\n",
      " 5   date         444448 non-null  object\n",
      " 6   vru_entry    444448 non-null  object\n",
      " 7   vru_exit     444448 non-null  object\n",
      " 8   vru_time     444448 non-null  int64 \n",
      " 9   q_start      444448 non-null  object\n",
      " 10  q_exit       444448 non-null  object\n",
      " 11  q_time       444448 non-null  int64 \n",
      " 12  outcome      444448 non-null  object\n",
      " 13  ser_start    444448 non-null  object\n",
      " 14  ser_exit     444448 non-null  object\n",
      " 15  ser_time     444448 non-null  int64 \n",
      " 16  server       444448 non-null  object\n",
      " 17  startdate    444448 non-null  int64 \n",
      "dtypes: int64(6), object(12)\n",
      "memory usage: 61.0+ MB\n"
     ]
    }
   ],
   "source": [
    "df.info()"
   ]
  },
  {
   "cell_type": "code",
   "execution_count": 9,
   "metadata": {},
   "outputs": [],
   "source": [
    "df[\"date\"] = pd.to_datetime(df[\"date\"], format=\"%Y-%m-%d\")\n",
    "df[\"vru_entry\"] = pd.to_datetime(df[\"vru_entry\"], format=\"%H:%M:%S\", errors='coerce')\n",
    "df[\"vru_exit\"] = pd.to_datetime(df[\"vru_exit\"], format=\"%H:%M:%S\", errors='coerce')\n",
    "df[\"q_start\"] = pd.to_datetime(df[\"q_start\"], format=\"%H:%M:%S\", errors='coerce')\n",
    "df[\"q_exit\"] = pd.to_datetime(df[\"q_exit\"], format=\"%H:%M:%S\", errors='coerce')\n",
    "df[\"ser_start\"] = pd.to_datetime(df[\"ser_start\"], format=\"%H:%M:%S\", errors='coerce')\n",
    "df[\"ser_exit\"] = pd.to_datetime(df[\"ser_exit\"], format=\"%H:%M:%S\", errors='coerce')\n",
    "\n",
    "df[\"vru_entry\"] = df[\"vru_entry\"].dt.time\n",
    "df[\"vru_exit\"] = df[\"vru_exit\"].dt.time\n",
    "df[\"q_start\"] = df[\"q_start\"].dt.time\n",
    "df[\"q_exit\"] = df[\"q_exit\"].dt.time\n",
    "df[\"ser_start\"] = df[\"ser_start\"].dt.time\n",
    "df[\"ser_exit\"] = df[\"ser_exit\"].dt.time"
   ]
  },
  {
   "cell_type": "code",
   "execution_count": 10,
   "metadata": {},
   "outputs": [
    {
     "data": {
      "text/html": [
       "<div>\n",
       "<style scoped>\n",
       "    .dataframe tbody tr th:only-of-type {\n",
       "        vertical-align: middle;\n",
       "    }\n",
       "\n",
       "    .dataframe tbody tr th {\n",
       "        vertical-align: top;\n",
       "    }\n",
       "\n",
       "    .dataframe thead th {\n",
       "        text-align: right;\n",
       "    }\n",
       "</style>\n",
       "<table border=\"1\" class=\"dataframe\">\n",
       "  <thead>\n",
       "    <tr style=\"text-align: right;\">\n",
       "      <th></th>\n",
       "      <th>vru.line</th>\n",
       "      <th>call_id</th>\n",
       "      <th>customer_id</th>\n",
       "      <th>priority</th>\n",
       "      <th>type</th>\n",
       "      <th>date</th>\n",
       "      <th>vru_entry</th>\n",
       "      <th>vru_exit</th>\n",
       "      <th>vru_time</th>\n",
       "      <th>q_start</th>\n",
       "      <th>q_exit</th>\n",
       "      <th>q_time</th>\n",
       "      <th>outcome</th>\n",
       "      <th>ser_start</th>\n",
       "      <th>ser_exit</th>\n",
       "      <th>ser_time</th>\n",
       "      <th>server</th>\n",
       "      <th>startdate</th>\n",
       "    </tr>\n",
       "  </thead>\n",
       "  <tbody>\n",
       "    <tr>\n",
       "      <th>0</th>\n",
       "      <td>AA0101</td>\n",
       "      <td>33116</td>\n",
       "      <td>9664491.0</td>\n",
       "      <td>2</td>\n",
       "      <td>PS</td>\n",
       "      <td>1999-01-01</td>\n",
       "      <td>00:00:31</td>\n",
       "      <td>00:00:36</td>\n",
       "      <td>5</td>\n",
       "      <td>00:00:36</td>\n",
       "      <td>00:03:09</td>\n",
       "      <td>153</td>\n",
       "      <td>HANG</td>\n",
       "      <td>00:00:00</td>\n",
       "      <td>00:00:00</td>\n",
       "      <td>0</td>\n",
       "      <td>NO_SERVER</td>\n",
       "      <td>0</td>\n",
       "    </tr>\n",
       "    <tr>\n",
       "      <th>1</th>\n",
       "      <td>AA0101</td>\n",
       "      <td>33117</td>\n",
       "      <td>0.0</td>\n",
       "      <td>0</td>\n",
       "      <td>PS</td>\n",
       "      <td>1999-01-01</td>\n",
       "      <td>00:34:12</td>\n",
       "      <td>00:34:23</td>\n",
       "      <td>11</td>\n",
       "      <td>00:00:00</td>\n",
       "      <td>00:00:00</td>\n",
       "      <td>0</td>\n",
       "      <td>HANG</td>\n",
       "      <td>00:00:00</td>\n",
       "      <td>00:00:00</td>\n",
       "      <td>0</td>\n",
       "      <td>NO_SERVER</td>\n",
       "      <td>0</td>\n",
       "    </tr>\n",
       "    <tr>\n",
       "      <th>2</th>\n",
       "      <td>AA0101</td>\n",
       "      <td>33118</td>\n",
       "      <td>27997683.0</td>\n",
       "      <td>2</td>\n",
       "      <td>PS</td>\n",
       "      <td>1999-01-01</td>\n",
       "      <td>06:55:20</td>\n",
       "      <td>06:55:26</td>\n",
       "      <td>6</td>\n",
       "      <td>06:55:26</td>\n",
       "      <td>06:55:43</td>\n",
       "      <td>17</td>\n",
       "      <td>AGENT</td>\n",
       "      <td>06:55:43</td>\n",
       "      <td>06:56:37</td>\n",
       "      <td>54</td>\n",
       "      <td>MICHAL</td>\n",
       "      <td>0</td>\n",
       "    </tr>\n",
       "    <tr>\n",
       "      <th>3</th>\n",
       "      <td>AA0101</td>\n",
       "      <td>33119</td>\n",
       "      <td>0.0</td>\n",
       "      <td>0</td>\n",
       "      <td>PS</td>\n",
       "      <td>1999-01-01</td>\n",
       "      <td>07:41:16</td>\n",
       "      <td>07:41:26</td>\n",
       "      <td>10</td>\n",
       "      <td>00:00:00</td>\n",
       "      <td>00:00:00</td>\n",
       "      <td>0</td>\n",
       "      <td>AGENT</td>\n",
       "      <td>07:41:25</td>\n",
       "      <td>07:44:53</td>\n",
       "      <td>208</td>\n",
       "      <td>BASCH</td>\n",
       "      <td>0</td>\n",
       "    </tr>\n",
       "    <tr>\n",
       "      <th>4</th>\n",
       "      <td>AA0101</td>\n",
       "      <td>33120</td>\n",
       "      <td>0.0</td>\n",
       "      <td>0</td>\n",
       "      <td>PS</td>\n",
       "      <td>1999-01-01</td>\n",
       "      <td>08:03:14</td>\n",
       "      <td>08:03:24</td>\n",
       "      <td>10</td>\n",
       "      <td>00:00:00</td>\n",
       "      <td>00:00:00</td>\n",
       "      <td>0</td>\n",
       "      <td>AGENT</td>\n",
       "      <td>08:03:23</td>\n",
       "      <td>08:05:10</td>\n",
       "      <td>107</td>\n",
       "      <td>MICHAL</td>\n",
       "      <td>0</td>\n",
       "    </tr>\n",
       "  </tbody>\n",
       "</table>\n",
       "</div>"
      ],
      "text/plain": [
       "  vru.line  call_id customer_id  priority type       date vru_entry  vru_exit  \\\n",
       "0   AA0101    33116   9664491.0         2   PS 1999-01-01  00:00:31  00:00:36   \n",
       "1   AA0101    33117         0.0         0   PS 1999-01-01  00:34:12  00:34:23   \n",
       "2   AA0101    33118  27997683.0         2   PS 1999-01-01  06:55:20  06:55:26   \n",
       "3   AA0101    33119         0.0         0   PS 1999-01-01  07:41:16  07:41:26   \n",
       "4   AA0101    33120         0.0         0   PS 1999-01-01  08:03:14  08:03:24   \n",
       "\n",
       "   vru_time   q_start    q_exit  q_time outcome ser_start  ser_exit  ser_time  \\\n",
       "0         5  00:00:36  00:03:09     153    HANG  00:00:00  00:00:00         0   \n",
       "1        11  00:00:00  00:00:00       0    HANG  00:00:00  00:00:00         0   \n",
       "2         6  06:55:26  06:55:43      17   AGENT  06:55:43  06:56:37        54   \n",
       "3        10  00:00:00  00:00:00       0   AGENT  07:41:25  07:44:53       208   \n",
       "4        10  00:00:00  00:00:00       0   AGENT  08:03:23  08:05:10       107   \n",
       "\n",
       "      server  startdate  \n",
       "0  NO_SERVER          0  \n",
       "1  NO_SERVER          0  \n",
       "2     MICHAL          0  \n",
       "3      BASCH          0  \n",
       "4     MICHAL          0  "
      ]
     },
     "execution_count": 10,
     "metadata": {},
     "output_type": "execute_result"
    }
   ],
   "source": [
    "df.head()"
   ]
  },
  {
   "cell_type": "code",
   "execution_count": 11,
   "metadata": {},
   "outputs": [
    {
     "name": "stdout",
     "output_type": "stream",
     "text": [
      "[2 0 1]\n"
     ]
    }
   ],
   "source": [
    "print(df[\"priority\"].unique())"
   ]
  },
  {
   "cell_type": "code",
   "execution_count": 12,
   "metadata": {},
   "outputs": [
    {
     "name": "stdout",
     "output_type": "stream",
     "text": [
      "            vru_time         q_time       ser_time\n",
      "count  444448.000000  444448.000000  444448.000000\n",
      "mean       10.286081      59.004304     152.561776\n",
      "std        34.942136     119.470328     282.372761\n",
      "min      -362.000000       0.000000       0.000000\n",
      "25%         6.000000       0.000000      12.000000\n",
      "50%         8.000000      16.000000      84.000000\n",
      "75%        10.000000      79.000000     185.000000\n",
      "max      4832.000000   28693.000000   61437.000000\n"
     ]
    }
   ],
   "source": [
    "print(df[[\"vru_time\", \"q_time\", \"ser_time\"]].describe())"
   ]
  },
  {
   "cell_type": "code",
   "execution_count": 13,
   "metadata": {},
   "outputs": [],
   "source": [
    "neg_vru_time_mask = df[\"vru_time\"] < 0\n",
    "\n",
    "df.loc[neg_vru_time_mask, [\"vru_entry\", \"vru_exit\"]] = df.loc[neg_vru_time_mask, [\"vru_exit\", \"vru_entry\"]].values\n",
    "\n",
    "df[\"vru_time\"] = (pd.to_datetime(df[\"vru_exit\"], format=\"%H:%M:%S\") - pd.to_datetime(df[\"vru_entry\"], format=\"%H:%M:%S\")).dt.total_seconds()\n"
   ]
  },
  {
   "cell_type": "code",
   "execution_count": 14,
   "metadata": {},
   "outputs": [
    {
     "name": "stdout",
     "output_type": "stream",
     "text": [
      "            vru_time         q_time       ser_time\n",
      "count  444448.000000  444448.000000  444448.000000\n",
      "mean       10.396357      59.004304     152.561776\n",
      "std        34.909485     119.470328     282.372761\n",
      "min         0.000000       0.000000       0.000000\n",
      "25%         6.000000       0.000000      12.000000\n",
      "50%         8.000000      16.000000      84.000000\n",
      "75%        10.000000      79.000000     185.000000\n",
      "max      4832.000000   28693.000000   61437.000000\n"
     ]
    }
   ],
   "source": [
    "print(df[[\"vru_time\", \"q_time\", \"ser_time\"]].describe())"
   ]
  },
  {
   "cell_type": "code",
   "execution_count": 15,
   "metadata": {},
   "outputs": [],
   "source": [
    "import matplotlib.pyplot as plt\n",
    "import numpy as np\n",
    "%matplotlib inline"
   ]
  },
  {
   "cell_type": "code",
   "execution_count": 16,
   "metadata": {},
   "outputs": [
    {
     "data": {
      "image/png": "[encoded data removed]",
      "text/plain": [
       "<Figure size 1000x600 with 1 Axes>"
      ]
     },
     "metadata": {},
     "output_type": "display_data"
    }
   ],
   "source": [
    "plt.figure(figsize=(10, 6))\n",
    "plt.boxplot([df['vru_time'], df['q_time'], df['ser_time']], labels=['vru_time', 'q_time', 'ser_time'])\n",
    "plt.title('Boxplot de tiempos')\n",
    "plt.ylabel('Tiempo')\n",
    "plt.xlabel('Variables')\n",
    "plt.grid(True)\n",
    "plt.show()"
   ]
  },
  {
   "cell_type": "code",
   "execution_count": 24,
   "metadata": {},
   "outputs": [],
   "source": [
    "df = df[(df[\"ser_time\"] <= 345) & (df[\"q_time\"] <= 150) & (df[\"vru_time\"] <= 10)]"
   ]
  },
  {
   "cell_type": "code",
   "execution_count": 25,
   "metadata": {},
   "outputs": [
    {
     "data": {
      "image/png": "[encoded data removed]",
      "text/plain": [
       "<Figure size 1000x600 with 1 Axes>"
      ]
     },
     "metadata": {},
     "output_type": "display_data"
    }
   ],
   "source": [
    "plt.figure(figsize=(10, 6)) \n",
    "plt.boxplot([df['vru_time'], df['q_time'], df['ser_time']], labels=['vru_time', 'q_time', 'ser_time']) \n",
    "plt.ylim(0, 350) \n",
    "plt.title('Boxplot de tiempos') \n",
    "plt.ylabel('Tiempo') \n",
    "plt.xlabel('Variables') \n",
    "plt.grid(True)"
   ]
  },
  {
   "cell_type": "code",
   "execution_count": 26,
   "metadata": {},
   "outputs": [
    {
     "name": "stdout",
     "output_type": "stream",
     "text": [
      "            vru_time         q_time       ser_time\n",
      "count  259661.000000  259661.000000  259661.000000\n",
      "mean        6.694848      37.434124      87.542727\n",
      "std         2.395472      41.198063      87.808442\n",
      "min         0.000000       0.000000       0.000000\n",
      "25%         5.000000       0.000000       2.000000\n",
      "50%         6.000000      22.000000      67.000000\n",
      "75%         9.000000      62.000000     138.000000\n",
      "max        10.000000     150.000000     345.000000\n"
     ]
    }
   ],
   "source": [
    "print(df[[\"vru_time\", \"q_time\", \"ser_time\"]].describe())"
   ]
  },
  {
   "cell_type": "code",
   "execution_count": 27,
   "metadata": {},
   "outputs": [],
   "source": [
    "df = df.drop(df.columns[17], axis=1)"
   ]
  },
  {
   "cell_type": "code",
   "execution_count": 28,
   "metadata": {},
   "outputs": [],
   "source": [
    "df.to_csv('Call_Center_1999_DataSet_Limpio2.csv', index=False)"
   ]
  },
  {
   "cell_type": "code",
   "execution_count": 29,
   "metadata": {},
   "outputs": [
    {
     "name": "stderr",
     "output_type": "stream",
     "text": [
      "C:\\Users\\nahue\\AppData\\Local\\Temp\\ipykernel_12720\\1184760246.py:1: DtypeWarning: Columns (2) have mixed types. Specify dtype option on import or set low_memory=False.\n",
      "  dfl = pd.read_csv('Call_Center_1999_DataSet_Limpio2.csv', delimiter=',')\n"
     ]
    }
   ],
   "source": [
    "dfl = pd.read_csv('Call_Center_1999_DataSet_Limpio2.csv', delimiter=',')"
   ]
  },
  {
   "cell_type": "code",
   "execution_count": 30,
   "metadata": {},
   "outputs": [
    {
     "name": "stdout",
     "output_type": "stream",
     "text": [
      "Tiempo promedio de espera en cola para clientes prioritarios: 51 segundos\n",
      "Porcentaje de llamadas dentro del SLA (90 segundos): 81.75%\n"
     ]
    }
   ],
   "source": [
    "#Pregunta 1 - ¿Cuál es el nivel de servicio para los clientes Prioritarios?\n",
    "\n",
    "# Filtrar clientes de alta prioridad\n",
    "dfl_priority = dfl[dfl[\"priority\"] == 2]\n",
    "# Tiempo promedio de espera en cola (q_time)\n",
    "promedio_espera = dfl_priority[\"q_time\"].mean()\n",
    "promedio_espera_redondeado = round(promedio_espera)\n",
    "print(f\"Tiempo promedio de espera en cola para clientes prioritarios: {promedio_espera_redondeado} segundos\")\n",
    "# Calcular porcentaje de llamadas con espera <= 90 segundos (SLA)\n",
    "porcentaje_sla = (dfl_priority[\"q_time\"] <= 90).mean() * 100\n",
    "print(f\"Porcentaje de llamadas dentro del SLA (90 segundos): {porcentaje_sla:.2f}%\")"
   ]
  },
  {
   "cell_type": "code",
   "execution_count": 32,
   "metadata": {},
   "outputs": [
    {
     "name": "stdout",
     "output_type": "stream",
     "text": [
      "Tiempo promedio en el sistema para clientes prioritarios: 157 segundos\n"
     ]
    }
   ],
   "source": [
    "# Tiempo total en el sistema (vru_time + q_time + ser_time)\n",
    "dfl_priority.loc[:, \"total_time\"] = dfl_priority[\"vru_time\"] + dfl_priority[\"q_time\"] + dfl_priority[\"ser_time\"]\n",
    "tiempo_total_promedio_en_sistema = dfl_priority[\"total_time\"].mean()\n",
    "tiempo_total_promedio_en_sistema_redondeado = round(tiempo_total_promedio_en_sistema)\n",
    "print(f\"Tiempo promedio en el sistema para clientes prioritarios: {tiempo_total_promedio_en_sistema_redondeado} segundos\")"
   ]
  },
  {
   "cell_type": "code",
   "execution_count": 33,
   "metadata": {},
   "outputs": [
    {
     "name": "stdout",
     "output_type": "stream",
     "text": [
      "Tasa de abandono - Clientes prioritarios: 17.79%\n"
     ]
    }
   ],
   "source": [
    "tasa_abandono_prioritarios = (dfl_priority[\"outcome\"] == \"HANG\").mean() * 100\n",
    "print(f\"Tasa de abandono - Clientes prioritarios: {tasa_abandono_prioritarios:.2f}%\")"
   ]
  },
  {
   "cell_type": "code",
   "execution_count": 34,
   "metadata": {},
   "outputs": [
    {
     "name": "stdout",
     "output_type": "stream",
     "text": [
      "El tiempo de resolucion promedio es 100.89 segundos\n"
     ]
    }
   ],
   "source": [
    "#Tiempo de resolución promedio (ser_time)\n",
    "tiempo_resolucion_promedio = dfl_priority[\"ser_time\"].mean()\n",
    "print(f'El tiempo de resolucion promedio es {tiempo_resolucion_promedio:.2f} segundos')"
   ]
  },
  {
   "cell_type": "code",
   "execution_count": 35,
   "metadata": {},
   "outputs": [
    {
     "name": "stdout",
     "output_type": "stream",
     "text": [
      "Porcentaje de ocupación de agentes para clientes prioritarios: 6.63%\n"
     ]
    }
   ],
   "source": [
    "\n",
    "# 1. Tiempo total en servicio de agentes para clientes prioritarios\n",
    "total_ser_time_prioritarios = dfl_priority[\"ser_time\"].sum()\n",
    "\n",
    "# 2. Calcular tiempo total disponible de los agentes (en segundos)\n",
    "# Sabiendo del word que el horario de atencion es de domingo a jueves (17 horas/día) y viernes a sábado (7 horas)\n",
    "horas_semanales = (5 * 17 + 2 * 7)  # Total de horas por semana\n",
    "segundos_semanales = horas_semanales * 3600\n",
    "numero_agentes = 8\n",
    "tiempo_disponible_total = segundos_semanales * numero_agentes * 52 #(cantidad de semanas en el año)\n",
    "\n",
    "# 3. Porcentaje de ocupación\n",
    "porcentaje_ocupacion = (total_ser_time_prioritarios / tiempo_disponible_total) * 100\n",
    "print(f\"Porcentaje de ocupación de agentes para clientes prioritarios: {porcentaje_ocupacion:.2f}%\")"
   ]
  },
  {
   "cell_type": "code",
   "execution_count": 36,
   "metadata": {},
   "outputs": [
    {
     "name": "stdout",
     "output_type": "stream",
     "text": [
      "Tiempo promedio de espera en cola para clientes normales: 29 segundos\n",
      "Tiempo promedio en el sistema para clientes normales: 116 segundos\n",
      "Tasa de abandono - Clientes normales: 28.17%\n",
      "El tiempo de resolucion promedio para clientes normales es 79.52 segundos\n"
     ]
    },
    {
     "name": "stderr",
     "output_type": "stream",
     "text": [
      "C:\\Users\\nahue\\AppData\\Local\\Temp\\ipykernel_12720\\611609915.py:12: SettingWithCopyWarning: \n",
      "A value is trying to be set on a copy of a slice from a DataFrame.\n",
      "Try using .loc[row_indexer,col_indexer] = value instead\n",
      "\n",
      "See the caveats in the documentation: https://pandas.pydata.org/pandas-docs/stable/user_guide/indexing.html#returning-a-view-versus-a-copy\n",
      "  dfl_normales.loc[:, \"total_time_n\"] = dfl_normales[\"vru_time\"] + dfl_normales[\"q_time\"] + dfl_normales[\"ser_time\"]\n"
     ]
    }
   ],
   "source": [
    "#Pregunta 2 - ¿Damos un mejor servicio que a los clientes normales?\n",
    "\n",
    "# Filtrar clientes normales\n",
    "dfl_normales = dfl[(dfl[\"priority\"] == 0) | (dfl[\"priority\"] == 1)]\n",
    "\n",
    "# Tiempo promedio de espera en cola (q_time)\n",
    "promedio_espera_normales = dfl_normales[\"q_time\"].mean()\n",
    "promedio_espera_redondeado_normales = round(promedio_espera_normales)\n",
    "print(f\"Tiempo promedio de espera en cola para clientes normales: {promedio_espera_redondeado_normales} segundos\")\n",
    "\n",
    "# Tiempo total en el sistema (vru_time + q_time + ser_time)\n",
    "dfl_normales.loc[:, \"total_time_n\"] = dfl_normales[\"vru_time\"] + dfl_normales[\"q_time\"] + dfl_normales[\"ser_time\"]\n",
    "tiempo_total_promedio_en_sistema_normales = dfl_normales[\"total_time_n\"].mean()\n",
    "tiempo_total_promedio_en_sistema_normales_redondeado = round(tiempo_total_promedio_en_sistema_normales)\n",
    "print(f\"Tiempo promedio en el sistema para clientes normales: {tiempo_total_promedio_en_sistema_normales_redondeado} segundos\")\n",
    "\n",
    "#Tasa de abandono\n",
    "tasa_abandono_normales = (dfl_normales[\"outcome\"] == \"HANG\").mean() * 100\n",
    "print(f\"Tasa de abandono - Clientes normales: {tasa_abandono_normales:.2f}%\")\n",
    "\n",
    "#Tiempo de resolución promedio (ser_time)\n",
    "tiempo_resolucion_promedio_normales = dfl_normales[\"ser_time\"].mean()\n",
    "print(f'El tiempo de resolucion promedio para clientes normales es {tiempo_resolucion_promedio_normales:.2f} segundos')"
   ]
  },
  {
   "cell_type": "code",
   "execution_count": 37,
   "metadata": {},
   "outputs": [
    {
     "name": "stdout",
     "output_type": "stream",
     "text": [
      "Porcentaje de ocupación de agentes para clientes normales: 8.70%\n"
     ]
    }
   ],
   "source": [
    "# 1. Tiempo total en servicio de agentes para clientes normales\n",
    "total_ser_time_normales = dfl_normales[\"ser_time\"].sum()\n",
    "\n",
    "# 2. Calcular tiempo total disponible de los agentes (en segundos)\n",
    "# Sabiendo del word que el horario de atencion es de domingo a jueves (17 horas/día) y viernes a sábado (7 horas)\n",
    "horas_semanales = (5 * 17 + 2 * 7)  # Total de horas por semana\n",
    "segundos_semanales = horas_semanales * 3600\n",
    "numero_agentes = 8\n",
    "tiempo_disponible_total = segundos_semanales * numero_agentes * 52 #(52 = cantidad de semanas en el año)\n",
    "\n",
    "# 3. Porcentaje de ocupación\n",
    "porcentaje_ocupacion_normales = (total_ser_time_normales / tiempo_disponible_total) * 100\n",
    "print(f\"Porcentaje de ocupación de agentes para clientes normales: {porcentaje_ocupacion_normales:.2f}%\")"
   ]
  },
  {
   "cell_type": "code",
   "execution_count": 38,
   "metadata": {},
   "outputs": [
    {
     "data": {
      "text/html": [
       "<div>\n",
       "<style scoped>\n",
       "    .dataframe tbody tr th:only-of-type {\n",
       "        vertical-align: middle;\n",
       "    }\n",
       "\n",
       "    .dataframe tbody tr th {\n",
       "        vertical-align: top;\n",
       "    }\n",
       "\n",
       "    .dataframe thead th {\n",
       "        text-align: right;\n",
       "    }\n",
       "</style>\n",
       "<table border=\"1\" class=\"dataframe\">\n",
       "  <thead>\n",
       "    <tr style=\"text-align: right;\">\n",
       "      <th></th>\n",
       "      <th>KPI</th>\n",
       "      <th>Clientes Normales</th>\n",
       "      <th>Clientes Prioritarios</th>\n",
       "    </tr>\n",
       "  </thead>\n",
       "  <tbody>\n",
       "    <tr>\n",
       "      <th>0</th>\n",
       "      <td>Tiempo promedio de espera en cola</td>\n",
       "      <td>29.327128</td>\n",
       "      <td>50.931556</td>\n",
       "    </tr>\n",
       "    <tr>\n",
       "      <th>1</th>\n",
       "      <td>Tiempo promedio en el sistema</td>\n",
       "      <td>116.289815</td>\n",
       "      <td>157.281177</td>\n",
       "    </tr>\n",
       "    <tr>\n",
       "      <th>2</th>\n",
       "      <td>Tasa de abandono</td>\n",
       "      <td>28.168458</td>\n",
       "      <td>17.787904</td>\n",
       "    </tr>\n",
       "    <tr>\n",
       "      <th>3</th>\n",
       "      <td>Tiempo de resolución promedio</td>\n",
       "      <td>79.523751</td>\n",
       "      <td>100.893613</td>\n",
       "    </tr>\n",
       "    <tr>\n",
       "      <th>4</th>\n",
       "      <td>Porcentaje de ocupación de agentes</td>\n",
       "      <td>8.701236</td>\n",
       "      <td>6.630657</td>\n",
       "    </tr>\n",
       "  </tbody>\n",
       "</table>\n",
       "</div>"
      ],
      "text/plain": [
       "                                  KPI  Clientes Normales  \\\n",
       "0   Tiempo promedio de espera en cola          29.327128   \n",
       "1       Tiempo promedio en el sistema         116.289815   \n",
       "2                    Tasa de abandono          28.168458   \n",
       "3       Tiempo de resolución promedio          79.523751   \n",
       "4  Porcentaje de ocupación de agentes           8.701236   \n",
       "\n",
       "   Clientes Prioritarios  \n",
       "0              50.931556  \n",
       "1             157.281177  \n",
       "2              17.787904  \n",
       "3             100.893613  \n",
       "4               6.630657  "
      ]
     },
     "execution_count": 38,
     "metadata": {},
     "output_type": "execute_result"
    }
   ],
   "source": [
    "# Diccionario con los resultados de los KPIs para cada grupo de clientes\n",
    "kpi_data = {\n",
    "    \"KPI\": [\n",
    "        \"Tiempo promedio de espera en cola\",\n",
    "        \"Tiempo promedio en el sistema\",\n",
    "        \"Tasa de abandono\",\n",
    "        \"Tiempo de resolución promedio\",\n",
    "        \"Porcentaje de ocupación de agentes\"\n",
    "    ],\n",
    "    \"Clientes Normales\": [\n",
    "        promedio_espera_normales,\n",
    "        tiempo_total_promedio_en_sistema_normales,\n",
    "        tasa_abandono_normales,\n",
    "        tiempo_resolucion_promedio_normales,\n",
    "        porcentaje_ocupacion_normales\n",
    "    ],\n",
    "    \"Clientes Prioritarios\": [\n",
    "        promedio_espera,\n",
    "        tiempo_total_promedio_en_sistema,\n",
    "        tasa_abandono_prioritarios,\n",
    "        tiempo_resolucion_promedio,\n",
    "        porcentaje_ocupacion\n",
    "    ]\n",
    "}\n",
    "\n",
    "# Convertir a DataFrame para facilitar la visualización\n",
    "kpi_dfl = pd.DataFrame(kpi_data)\n",
    "kpi_dfl"
   ]
  },
  {
   "cell_type": "code",
   "execution_count": 39,
   "metadata": {},
   "outputs": [
    {
     "data": {
      "image/png": "[encoded data removed]",
      "text/plain": [
       "<Figure size 1000x600 with 1 Axes>"
      ]
     },
     "metadata": {},
     "output_type": "display_data"
    }
   ],
   "source": [
    "# Configurar el tamaño de la figura\n",
    "plt.figure(figsize=(10, 6))\n",
    "\n",
    "# Crear gráfico de barras agrupadas\n",
    "bar_width = 0.35  # Ancho de las barras\n",
    "x = range(len(kpi_dfl))  # Posiciones para los grupos de barras\n",
    "\n",
    "# Graficar cada grupo de clientes\n",
    "plt.bar(x, kpi_dfl[\"Clientes Normales\"], width=bar_width, label=\"Clientes Normales\", color=\"skyblue\")\n",
    "plt.bar([p + bar_width for p in x], kpi_dfl[\"Clientes Prioritarios\"], width=bar_width, label=\"Clientes Prioritarios\", color=\"salmon\")\n",
    "\n",
    "# Configuración del gráfico\n",
    "plt.xlabel(\"KPI\")\n",
    "plt.ylabel(\"Valor en segundos\")\n",
    "plt.title(\"Comparación de KPIs entre Clientes Normales y Prioritarios\")\n",
    "plt.xticks([p + bar_width / 2 for p in x], kpi_dfl[\"KPI\"], rotation=45, ha=\"right\")\n",
    "plt.legend()\n",
    "\n",
    "# Mostrar gráfico\n",
    "plt.tight_layout()\n",
    "plt.show()"
   ]
  },
  {
   "cell_type": "code",
   "execution_count": null,
   "metadata": {},
   "outputs": [],
   "source": [
    "#CONCLUSIÓN 2: habiendo sacado todos los outliers (tomando como referencia el boxplot), el servicio a clientes prioritarios\n",
    "# no cambia, es decir, tienen peor servicio que los normales. "
   ]
  }
 ],
 "metadata": {
  "kernelspec": {
   "display_name": "Python 3",
   "language": "python",
   "name": "python3"
  },
  "language_info": {
   "codemirror_mode": {
    "name": "ipython",
    "version": 3
   },
   "file_extension": ".py",
   "mimetype": "text/x-python",
   "name": "python",
   "nbconvert_exporter": "python",
   "pygments_lexer": "ipython3",
   "version": "3.9.7"
  }
 },
 "nbformat": 4,
 "nbformat_minor": 2
}
