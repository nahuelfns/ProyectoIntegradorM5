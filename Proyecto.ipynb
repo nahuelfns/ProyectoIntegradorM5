{
 "cells": [
  {
   "cell_type": "code",
   "execution_count": 2,
   "metadata": {},
   "outputs": [],
   "source": [
    "import pandas as pd"
   ]
  },
  {
   "cell_type": "code",
   "execution_count": 2,
   "metadata": {},
   "outputs": [
    {
     "name": "stderr",
     "output_type": "stream",
     "text": [
      "C:\\Users\\nahue\\AppData\\Local\\Temp\\ipykernel_19212\\1179263909.py:3: DtypeWarning: Columns (2) have mixed types. Specify dtype option on import or set low_memory=False.\n",
      "  df = pd.read_csv('Call_Center_1999_DataSet.csv', delimiter=';')\n"
     ]
    }
   ],
   "source": [
    "#1)IMPORTAR EL ARCHIVO\n",
    "#Leo el archivo con el delimitador apropiado en un DataFrame de pandas\n",
    "df = pd.read_csv('Call_Center_1999_DataSet.csv', delimiter=';')"
   ]
  },
  {
   "cell_type": "code",
   "execution_count": 3,
   "metadata": {},
   "outputs": [
    {
     "data": {
      "text/html": [
       "<div>\n",
       "<style scoped>\n",
       "    .dataframe tbody tr th:only-of-type {\n",
       "        vertical-align: middle;\n",
       "    }\n",
       "\n",
       "    .dataframe tbody tr th {\n",
       "        vertical-align: top;\n",
       "    }\n",
       "\n",
       "    .dataframe thead th {\n",
       "        text-align: right;\n",
       "    }\n",
       "</style>\n",
       "<table border=\"1\" class=\"dataframe\">\n",
       "  <thead>\n",
       "    <tr style=\"text-align: right;\">\n",
       "      <th></th>\n",
       "      <th>vru.line</th>\n",
       "      <th>call_id</th>\n",
       "      <th>customer_id</th>\n",
       "      <th>priority</th>\n",
       "      <th>type</th>\n",
       "      <th>date</th>\n",
       "      <th>vru_entry</th>\n",
       "      <th>vru_exit</th>\n",
       "      <th>vru_time</th>\n",
       "      <th>q_start</th>\n",
       "      <th>q_exit</th>\n",
       "      <th>q_time</th>\n",
       "      <th>outcome</th>\n",
       "      <th>ser_start</th>\n",
       "      <th>ser_exit</th>\n",
       "      <th>ser_time</th>\n",
       "      <th>server</th>\n",
       "      <th>startdate</th>\n",
       "    </tr>\n",
       "  </thead>\n",
       "  <tbody>\n",
       "    <tr>\n",
       "      <th>0</th>\n",
       "      <td>AA0101</td>\n",
       "      <td>33116</td>\n",
       "      <td>9664491.0</td>\n",
       "      <td>2</td>\n",
       "      <td>PS</td>\n",
       "      <td>1999-01-01</td>\n",
       "      <td>0:00:31</td>\n",
       "      <td>0:00:36</td>\n",
       "      <td>5</td>\n",
       "      <td>0:00:36</td>\n",
       "      <td>0:03:09</td>\n",
       "      <td>153</td>\n",
       "      <td>HANG</td>\n",
       "      <td>0:00:00</td>\n",
       "      <td>0:00:00</td>\n",
       "      <td>0</td>\n",
       "      <td>NO_SERVER</td>\n",
       "      <td>0</td>\n",
       "    </tr>\n",
       "    <tr>\n",
       "      <th>1</th>\n",
       "      <td>AA0101</td>\n",
       "      <td>33117</td>\n",
       "      <td>0.0</td>\n",
       "      <td>0</td>\n",
       "      <td>PS</td>\n",
       "      <td>1999-01-01</td>\n",
       "      <td>0:34:12</td>\n",
       "      <td>0:34:23</td>\n",
       "      <td>11</td>\n",
       "      <td>0:00:00</td>\n",
       "      <td>0:00:00</td>\n",
       "      <td>0</td>\n",
       "      <td>HANG</td>\n",
       "      <td>0:00:00</td>\n",
       "      <td>0:00:00</td>\n",
       "      <td>0</td>\n",
       "      <td>NO_SERVER</td>\n",
       "      <td>0</td>\n",
       "    </tr>\n",
       "    <tr>\n",
       "      <th>2</th>\n",
       "      <td>AA0101</td>\n",
       "      <td>33118</td>\n",
       "      <td>27997683.0</td>\n",
       "      <td>2</td>\n",
       "      <td>PS</td>\n",
       "      <td>1999-01-01</td>\n",
       "      <td>6:55:20</td>\n",
       "      <td>6:55:26</td>\n",
       "      <td>6</td>\n",
       "      <td>6:55:26</td>\n",
       "      <td>6:55:43</td>\n",
       "      <td>17</td>\n",
       "      <td>AGENT</td>\n",
       "      <td>6:55:43</td>\n",
       "      <td>6:56:37</td>\n",
       "      <td>54</td>\n",
       "      <td>MICHAL</td>\n",
       "      <td>0</td>\n",
       "    </tr>\n",
       "    <tr>\n",
       "      <th>3</th>\n",
       "      <td>AA0101</td>\n",
       "      <td>33119</td>\n",
       "      <td>0.0</td>\n",
       "      <td>0</td>\n",
       "      <td>PS</td>\n",
       "      <td>1999-01-01</td>\n",
       "      <td>7:41:16</td>\n",
       "      <td>7:41:26</td>\n",
       "      <td>10</td>\n",
       "      <td>0:00:00</td>\n",
       "      <td>0:00:00</td>\n",
       "      <td>0</td>\n",
       "      <td>AGENT</td>\n",
       "      <td>7:41:25</td>\n",
       "      <td>7:44:53</td>\n",
       "      <td>208</td>\n",
       "      <td>BASCH</td>\n",
       "      <td>0</td>\n",
       "    </tr>\n",
       "    <tr>\n",
       "      <th>4</th>\n",
       "      <td>AA0101</td>\n",
       "      <td>33120</td>\n",
       "      <td>0.0</td>\n",
       "      <td>0</td>\n",
       "      <td>PS</td>\n",
       "      <td>1999-01-01</td>\n",
       "      <td>8:03:14</td>\n",
       "      <td>8:03:24</td>\n",
       "      <td>10</td>\n",
       "      <td>0:00:00</td>\n",
       "      <td>0:00:00</td>\n",
       "      <td>0</td>\n",
       "      <td>AGENT</td>\n",
       "      <td>8:03:23</td>\n",
       "      <td>8:05:10</td>\n",
       "      <td>107</td>\n",
       "      <td>MICHAL</td>\n",
       "      <td>0</td>\n",
       "    </tr>\n",
       "  </tbody>\n",
       "</table>\n",
       "</div>"
      ],
      "text/plain": [
       "  vru.line  call_id customer_id  priority type        date vru_entry vru_exit  \\\n",
       "0   AA0101    33116   9664491.0         2   PS  1999-01-01   0:00:31  0:00:36   \n",
       "1   AA0101    33117         0.0         0   PS  1999-01-01   0:34:12  0:34:23   \n",
       "2   AA0101    33118  27997683.0         2   PS  1999-01-01   6:55:20  6:55:26   \n",
       "3   AA0101    33119         0.0         0   PS  1999-01-01   7:41:16  7:41:26   \n",
       "4   AA0101    33120         0.0         0   PS  1999-01-01   8:03:14  8:03:24   \n",
       "\n",
       "   vru_time  q_start   q_exit  q_time outcome ser_start ser_exit  ser_time  \\\n",
       "0         5  0:00:36  0:03:09     153    HANG   0:00:00  0:00:00         0   \n",
       "1        11  0:00:00  0:00:00       0    HANG   0:00:00  0:00:00         0   \n",
       "2         6  6:55:26  6:55:43      17   AGENT   6:55:43  6:56:37        54   \n",
       "3        10  0:00:00  0:00:00       0   AGENT   7:41:25  7:44:53       208   \n",
       "4        10  0:00:00  0:00:00       0   AGENT   8:03:23  8:05:10       107   \n",
       "\n",
       "      server  startdate  \n",
       "0  NO_SERVER          0  \n",
       "1  NO_SERVER          0  \n",
       "2     MICHAL          0  \n",
       "3      BASCH          0  \n",
       "4     MICHAL          0  "
      ]
     },
     "execution_count": 3,
     "metadata": {},
     "output_type": "execute_result"
    }
   ],
   "source": [
    "#2)EXPLORAR LOS PRIMEROS DATOS\n",
    "#Reviso la estructura del dataset, el número de filas y columnas, y los primeros registros.\n",
    "df.head()"
   ]
  },
  {
   "cell_type": "code",
   "execution_count": 4,
   "metadata": {},
   "outputs": [
    {
     "name": "stdout",
     "output_type": "stream",
     "text": [
      "<class 'pandas.core.frame.DataFrame'>\n",
      "RangeIndex: 444448 entries, 0 to 444447\n",
      "Data columns (total 18 columns):\n",
      " #   Column       Non-Null Count   Dtype \n",
      "---  ------       --------------   ----- \n",
      " 0   vru.line     444448 non-null  object\n",
      " 1   call_id      444448 non-null  int64 \n",
      " 2   customer_id  444448 non-null  object\n",
      " 3   priority     444448 non-null  int64 \n",
      " 4   type         444448 non-null  object\n",
      " 5   date         444448 non-null  object\n",
      " 6   vru_entry    444448 non-null  object\n",
      " 7   vru_exit     444448 non-null  object\n",
      " 8   vru_time     444448 non-null  int64 \n",
      " 9   q_start      444448 non-null  object\n",
      " 10  q_exit       444448 non-null  object\n",
      " 11  q_time       444448 non-null  int64 \n",
      " 12  outcome      444448 non-null  object\n",
      " 13  ser_start    444448 non-null  object\n",
      " 14  ser_exit     444448 non-null  object\n",
      " 15  ser_time     444448 non-null  int64 \n",
      " 16  server       444448 non-null  object\n",
      " 17  startdate    444448 non-null  int64 \n",
      "dtypes: int64(6), object(12)\n",
      "memory usage: 61.0+ MB\n"
     ]
    }
   ],
   "source": [
    "#3)REVISAR VALORES FALTANTES Y TIPOS DE DATOS\n",
    "#Verifico si hay datos faltantes y veo los tipos de datos actuales en cada columna.\n",
    "df.info()\n",
    "#Esto me ayudará a entender las columnas y a identificar problemas como tipos de datos incorrectos o valores nulos.\n",
    "#df.isnull().sum()\n",
    "#df.dtypes"
   ]
  },
  {
   "cell_type": "code",
   "execution_count": 5,
   "metadata": {},
   "outputs": [],
   "source": [
    "#4) CONVERSION DE COLUMNAS DE FECHA Y HORA\n",
    "#Convierto columnas que representan fechas y horas en formatos de tiempo.\n",
    "\n",
    "#De esta manera, todas las columnas con formato de tiempo, me quedan con fecha y hora. \n",
    "\n",
    "df[\"date\"] = pd.to_datetime(df[\"date\"], format=\"%Y-%m-%d\")\n",
    "df[\"vru_entry\"] = pd.to_datetime(df[\"vru_entry\"], format=\"%H:%M:%S\", errors='coerce')\n",
    "df[\"vru_exit\"] = pd.to_datetime(df[\"vru_exit\"], format=\"%H:%M:%S\", errors='coerce')\n",
    "df[\"q_start\"] = pd.to_datetime(df[\"q_start\"], format=\"%H:%M:%S\", errors='coerce')\n",
    "df[\"q_exit\"] = pd.to_datetime(df[\"q_exit\"], format=\"%H:%M:%S\", errors='coerce')\n",
    "df[\"ser_start\"] = pd.to_datetime(df[\"ser_start\"], format=\"%H:%M:%S\", errors='coerce')\n",
    "df[\"ser_exit\"] = pd.to_datetime(df[\"ser_exit\"], format=\"%H:%M:%S\", errors='coerce')\n",
    "#Nota: errors='coerce' convertirá a NaT (Not a Time) los valores que no puedan convertirse, evitando errores en caso \n",
    "# de datos inconsistentes."
   ]
  },
  {
   "cell_type": "code",
   "execution_count": 6,
   "metadata": {},
   "outputs": [
    {
     "data": {
      "text/html": [
       "<div>\n",
       "<style scoped>\n",
       "    .dataframe tbody tr th:only-of-type {\n",
       "        vertical-align: middle;\n",
       "    }\n",
       "\n",
       "    .dataframe tbody tr th {\n",
       "        vertical-align: top;\n",
       "    }\n",
       "\n",
       "    .dataframe thead th {\n",
       "        text-align: right;\n",
       "    }\n",
       "</style>\n",
       "<table border=\"1\" class=\"dataframe\">\n",
       "  <thead>\n",
       "    <tr style=\"text-align: right;\">\n",
       "      <th></th>\n",
       "      <th>vru.line</th>\n",
       "      <th>call_id</th>\n",
       "      <th>customer_id</th>\n",
       "      <th>priority</th>\n",
       "      <th>type</th>\n",
       "      <th>date</th>\n",
       "      <th>vru_entry</th>\n",
       "      <th>vru_exit</th>\n",
       "      <th>vru_time</th>\n",
       "      <th>q_start</th>\n",
       "      <th>q_exit</th>\n",
       "      <th>q_time</th>\n",
       "      <th>outcome</th>\n",
       "      <th>ser_start</th>\n",
       "      <th>ser_exit</th>\n",
       "      <th>ser_time</th>\n",
       "      <th>server</th>\n",
       "      <th>startdate</th>\n",
       "    </tr>\n",
       "  </thead>\n",
       "  <tbody>\n",
       "    <tr>\n",
       "      <th>0</th>\n",
       "      <td>AA0101</td>\n",
       "      <td>33116</td>\n",
       "      <td>9664491.0</td>\n",
       "      <td>2</td>\n",
       "      <td>PS</td>\n",
       "      <td>1999-01-01</td>\n",
       "      <td>1900-01-01 00:00:31</td>\n",
       "      <td>1900-01-01 00:00:36</td>\n",
       "      <td>5</td>\n",
       "      <td>1900-01-01 00:00:36</td>\n",
       "      <td>1900-01-01 00:03:09</td>\n",
       "      <td>153</td>\n",
       "      <td>HANG</td>\n",
       "      <td>1900-01-01 00:00:00</td>\n",
       "      <td>1900-01-01 00:00:00</td>\n",
       "      <td>0</td>\n",
       "      <td>NO_SERVER</td>\n",
       "      <td>0</td>\n",
       "    </tr>\n",
       "    <tr>\n",
       "      <th>1</th>\n",
       "      <td>AA0101</td>\n",
       "      <td>33117</td>\n",
       "      <td>0.0</td>\n",
       "      <td>0</td>\n",
       "      <td>PS</td>\n",
       "      <td>1999-01-01</td>\n",
       "      <td>1900-01-01 00:34:12</td>\n",
       "      <td>1900-01-01 00:34:23</td>\n",
       "      <td>11</td>\n",
       "      <td>1900-01-01 00:00:00</td>\n",
       "      <td>1900-01-01 00:00:00</td>\n",
       "      <td>0</td>\n",
       "      <td>HANG</td>\n",
       "      <td>1900-01-01 00:00:00</td>\n",
       "      <td>1900-01-01 00:00:00</td>\n",
       "      <td>0</td>\n",
       "      <td>NO_SERVER</td>\n",
       "      <td>0</td>\n",
       "    </tr>\n",
       "    <tr>\n",
       "      <th>2</th>\n",
       "      <td>AA0101</td>\n",
       "      <td>33118</td>\n",
       "      <td>27997683.0</td>\n",
       "      <td>2</td>\n",
       "      <td>PS</td>\n",
       "      <td>1999-01-01</td>\n",
       "      <td>1900-01-01 06:55:20</td>\n",
       "      <td>1900-01-01 06:55:26</td>\n",
       "      <td>6</td>\n",
       "      <td>1900-01-01 06:55:26</td>\n",
       "      <td>1900-01-01 06:55:43</td>\n",
       "      <td>17</td>\n",
       "      <td>AGENT</td>\n",
       "      <td>1900-01-01 06:55:43</td>\n",
       "      <td>1900-01-01 06:56:37</td>\n",
       "      <td>54</td>\n",
       "      <td>MICHAL</td>\n",
       "      <td>0</td>\n",
       "    </tr>\n",
       "    <tr>\n",
       "      <th>3</th>\n",
       "      <td>AA0101</td>\n",
       "      <td>33119</td>\n",
       "      <td>0.0</td>\n",
       "      <td>0</td>\n",
       "      <td>PS</td>\n",
       "      <td>1999-01-01</td>\n",
       "      <td>1900-01-01 07:41:16</td>\n",
       "      <td>1900-01-01 07:41:26</td>\n",
       "      <td>10</td>\n",
       "      <td>1900-01-01 00:00:00</td>\n",
       "      <td>1900-01-01 00:00:00</td>\n",
       "      <td>0</td>\n",
       "      <td>AGENT</td>\n",
       "      <td>1900-01-01 07:41:25</td>\n",
       "      <td>1900-01-01 07:44:53</td>\n",
       "      <td>208</td>\n",
       "      <td>BASCH</td>\n",
       "      <td>0</td>\n",
       "    </tr>\n",
       "    <tr>\n",
       "      <th>4</th>\n",
       "      <td>AA0101</td>\n",
       "      <td>33120</td>\n",
       "      <td>0.0</td>\n",
       "      <td>0</td>\n",
       "      <td>PS</td>\n",
       "      <td>1999-01-01</td>\n",
       "      <td>1900-01-01 08:03:14</td>\n",
       "      <td>1900-01-01 08:03:24</td>\n",
       "      <td>10</td>\n",
       "      <td>1900-01-01 00:00:00</td>\n",
       "      <td>1900-01-01 00:00:00</td>\n",
       "      <td>0</td>\n",
       "      <td>AGENT</td>\n",
       "      <td>1900-01-01 08:03:23</td>\n",
       "      <td>1900-01-01 08:05:10</td>\n",
       "      <td>107</td>\n",
       "      <td>MICHAL</td>\n",
       "      <td>0</td>\n",
       "    </tr>\n",
       "  </tbody>\n",
       "</table>\n",
       "</div>"
      ],
      "text/plain": [
       "  vru.line  call_id customer_id  priority type       date           vru_entry  \\\n",
       "0   AA0101    33116   9664491.0         2   PS 1999-01-01 1900-01-01 00:00:31   \n",
       "1   AA0101    33117         0.0         0   PS 1999-01-01 1900-01-01 00:34:12   \n",
       "2   AA0101    33118  27997683.0         2   PS 1999-01-01 1900-01-01 06:55:20   \n",
       "3   AA0101    33119         0.0         0   PS 1999-01-01 1900-01-01 07:41:16   \n",
       "4   AA0101    33120         0.0         0   PS 1999-01-01 1900-01-01 08:03:14   \n",
       "\n",
       "             vru_exit  vru_time             q_start              q_exit  \\\n",
       "0 1900-01-01 00:00:36         5 1900-01-01 00:00:36 1900-01-01 00:03:09   \n",
       "1 1900-01-01 00:34:23        11 1900-01-01 00:00:00 1900-01-01 00:00:00   \n",
       "2 1900-01-01 06:55:26         6 1900-01-01 06:55:26 1900-01-01 06:55:43   \n",
       "3 1900-01-01 07:41:26        10 1900-01-01 00:00:00 1900-01-01 00:00:00   \n",
       "4 1900-01-01 08:03:24        10 1900-01-01 00:00:00 1900-01-01 00:00:00   \n",
       "\n",
       "   q_time outcome           ser_start            ser_exit  ser_time  \\\n",
       "0     153    HANG 1900-01-01 00:00:00 1900-01-01 00:00:00         0   \n",
       "1       0    HANG 1900-01-01 00:00:00 1900-01-01 00:00:00         0   \n",
       "2      17   AGENT 1900-01-01 06:55:43 1900-01-01 06:56:37        54   \n",
       "3       0   AGENT 1900-01-01 07:41:25 1900-01-01 07:44:53       208   \n",
       "4       0   AGENT 1900-01-01 08:03:23 1900-01-01 08:05:10       107   \n",
       "\n",
       "      server  startdate  \n",
       "0  NO_SERVER          0  \n",
       "1  NO_SERVER          0  \n",
       "2     MICHAL          0  \n",
       "3      BASCH          0  \n",
       "4     MICHAL          0  "
      ]
     },
     "execution_count": 6,
     "metadata": {},
     "output_type": "execute_result"
    }
   ],
   "source": [
    "df.head()"
   ]
  },
  {
   "cell_type": "code",
   "execution_count": 7,
   "metadata": {},
   "outputs": [],
   "source": [
    "#Para quedarme solamente con la parte de la hora\n",
    "df[\"vru_entry\"] = df[\"vru_entry\"].dt.time\n",
    "df[\"vru_exit\"] = df[\"vru_exit\"].dt.time\n",
    "df[\"q_start\"] = df[\"q_start\"].dt.time\n",
    "df[\"q_exit\"] = df[\"q_exit\"].dt.time\n",
    "df[\"ser_start\"] = df[\"ser_start\"].dt.time\n",
    "df[\"ser_exit\"] = df[\"ser_exit\"].dt.time\n",
    "#Al usar .dt.time, conservamos únicamente la información de la hora y descartamos la fecha por completo."
   ]
  },
  {
   "cell_type": "code",
   "execution_count": 8,
   "metadata": {},
   "outputs": [
    {
     "data": {
      "text/html": [
       "<div>\n",
       "<style scoped>\n",
       "    .dataframe tbody tr th:only-of-type {\n",
       "        vertical-align: middle;\n",
       "    }\n",
       "\n",
       "    .dataframe tbody tr th {\n",
       "        vertical-align: top;\n",
       "    }\n",
       "\n",
       "    .dataframe thead th {\n",
       "        text-align: right;\n",
       "    }\n",
       "</style>\n",
       "<table border=\"1\" class=\"dataframe\">\n",
       "  <thead>\n",
       "    <tr style=\"text-align: right;\">\n",
       "      <th></th>\n",
       "      <th>vru.line</th>\n",
       "      <th>call_id</th>\n",
       "      <th>customer_id</th>\n",
       "      <th>priority</th>\n",
       "      <th>type</th>\n",
       "      <th>date</th>\n",
       "      <th>vru_entry</th>\n",
       "      <th>vru_exit</th>\n",
       "      <th>vru_time</th>\n",
       "      <th>q_start</th>\n",
       "      <th>q_exit</th>\n",
       "      <th>q_time</th>\n",
       "      <th>outcome</th>\n",
       "      <th>ser_start</th>\n",
       "      <th>ser_exit</th>\n",
       "      <th>ser_time</th>\n",
       "      <th>server</th>\n",
       "      <th>startdate</th>\n",
       "    </tr>\n",
       "  </thead>\n",
       "  <tbody>\n",
       "    <tr>\n",
       "      <th>0</th>\n",
       "      <td>AA0101</td>\n",
       "      <td>33116</td>\n",
       "      <td>9664491.0</td>\n",
       "      <td>2</td>\n",
       "      <td>PS</td>\n",
       "      <td>1999-01-01</td>\n",
       "      <td>00:00:31</td>\n",
       "      <td>00:00:36</td>\n",
       "      <td>5</td>\n",
       "      <td>00:00:36</td>\n",
       "      <td>00:03:09</td>\n",
       "      <td>153</td>\n",
       "      <td>HANG</td>\n",
       "      <td>00:00:00</td>\n",
       "      <td>00:00:00</td>\n",
       "      <td>0</td>\n",
       "      <td>NO_SERVER</td>\n",
       "      <td>0</td>\n",
       "    </tr>\n",
       "    <tr>\n",
       "      <th>1</th>\n",
       "      <td>AA0101</td>\n",
       "      <td>33117</td>\n",
       "      <td>0.0</td>\n",
       "      <td>0</td>\n",
       "      <td>PS</td>\n",
       "      <td>1999-01-01</td>\n",
       "      <td>00:34:12</td>\n",
       "      <td>00:34:23</td>\n",
       "      <td>11</td>\n",
       "      <td>00:00:00</td>\n",
       "      <td>00:00:00</td>\n",
       "      <td>0</td>\n",
       "      <td>HANG</td>\n",
       "      <td>00:00:00</td>\n",
       "      <td>00:00:00</td>\n",
       "      <td>0</td>\n",
       "      <td>NO_SERVER</td>\n",
       "      <td>0</td>\n",
       "    </tr>\n",
       "    <tr>\n",
       "      <th>2</th>\n",
       "      <td>AA0101</td>\n",
       "      <td>33118</td>\n",
       "      <td>27997683.0</td>\n",
       "      <td>2</td>\n",
       "      <td>PS</td>\n",
       "      <td>1999-01-01</td>\n",
       "      <td>06:55:20</td>\n",
       "      <td>06:55:26</td>\n",
       "      <td>6</td>\n",
       "      <td>06:55:26</td>\n",
       "      <td>06:55:43</td>\n",
       "      <td>17</td>\n",
       "      <td>AGENT</td>\n",
       "      <td>06:55:43</td>\n",
       "      <td>06:56:37</td>\n",
       "      <td>54</td>\n",
       "      <td>MICHAL</td>\n",
       "      <td>0</td>\n",
       "    </tr>\n",
       "    <tr>\n",
       "      <th>3</th>\n",
       "      <td>AA0101</td>\n",
       "      <td>33119</td>\n",
       "      <td>0.0</td>\n",
       "      <td>0</td>\n",
       "      <td>PS</td>\n",
       "      <td>1999-01-01</td>\n",
       "      <td>07:41:16</td>\n",
       "      <td>07:41:26</td>\n",
       "      <td>10</td>\n",
       "      <td>00:00:00</td>\n",
       "      <td>00:00:00</td>\n",
       "      <td>0</td>\n",
       "      <td>AGENT</td>\n",
       "      <td>07:41:25</td>\n",
       "      <td>07:44:53</td>\n",
       "      <td>208</td>\n",
       "      <td>BASCH</td>\n",
       "      <td>0</td>\n",
       "    </tr>\n",
       "    <tr>\n",
       "      <th>4</th>\n",
       "      <td>AA0101</td>\n",
       "      <td>33120</td>\n",
       "      <td>0.0</td>\n",
       "      <td>0</td>\n",
       "      <td>PS</td>\n",
       "      <td>1999-01-01</td>\n",
       "      <td>08:03:14</td>\n",
       "      <td>08:03:24</td>\n",
       "      <td>10</td>\n",
       "      <td>00:00:00</td>\n",
       "      <td>00:00:00</td>\n",
       "      <td>0</td>\n",
       "      <td>AGENT</td>\n",
       "      <td>08:03:23</td>\n",
       "      <td>08:05:10</td>\n",
       "      <td>107</td>\n",
       "      <td>MICHAL</td>\n",
       "      <td>0</td>\n",
       "    </tr>\n",
       "  </tbody>\n",
       "</table>\n",
       "</div>"
      ],
      "text/plain": [
       "  vru.line  call_id customer_id  priority type       date vru_entry  vru_exit  \\\n",
       "0   AA0101    33116   9664491.0         2   PS 1999-01-01  00:00:31  00:00:36   \n",
       "1   AA0101    33117         0.0         0   PS 1999-01-01  00:34:12  00:34:23   \n",
       "2   AA0101    33118  27997683.0         2   PS 1999-01-01  06:55:20  06:55:26   \n",
       "3   AA0101    33119         0.0         0   PS 1999-01-01  07:41:16  07:41:26   \n",
       "4   AA0101    33120         0.0         0   PS 1999-01-01  08:03:14  08:03:24   \n",
       "\n",
       "   vru_time   q_start    q_exit  q_time outcome ser_start  ser_exit  ser_time  \\\n",
       "0         5  00:00:36  00:03:09     153    HANG  00:00:00  00:00:00         0   \n",
       "1        11  00:00:00  00:00:00       0    HANG  00:00:00  00:00:00         0   \n",
       "2         6  06:55:26  06:55:43      17   AGENT  06:55:43  06:56:37        54   \n",
       "3        10  00:00:00  00:00:00       0   AGENT  07:41:25  07:44:53       208   \n",
       "4        10  00:00:00  00:00:00       0   AGENT  08:03:23  08:05:10       107   \n",
       "\n",
       "      server  startdate  \n",
       "0  NO_SERVER          0  \n",
       "1  NO_SERVER          0  \n",
       "2     MICHAL          0  \n",
       "3      BASCH          0  \n",
       "4     MICHAL          0  "
      ]
     },
     "execution_count": 8,
     "metadata": {},
     "output_type": "execute_result"
    }
   ],
   "source": [
    "df.head()"
   ]
  },
  {
   "cell_type": "code",
   "execution_count": 9,
   "metadata": {},
   "outputs": [
    {
     "name": "stdout",
     "output_type": "stream",
     "text": [
      "[2 0 1]\n"
     ]
    }
   ],
   "source": [
    "#6) REVISAR Y MANEJAR VALORES ATÍPICOS\n",
    "#Identifico valores extremos o inconsistentes en variables como priority, vru_time, q_time, y ser_time.\n",
    "\n",
    "# Identifico valores únicos en prioridad para asegurarme de que no haya mas que los descritos en el word\n",
    "print(df[\"priority\"].unique())"
   ]
  },
  {
   "cell_type": "code",
   "execution_count": 10,
   "metadata": {},
   "outputs": [
    {
     "name": "stdout",
     "output_type": "stream",
     "text": [
      "            vru_time         q_time       ser_time\n",
      "count  444448.000000  444448.000000  444448.000000\n",
      "mean       10.286081      59.004304     152.561776\n",
      "std        34.942136     119.470328     282.372761\n",
      "min      -362.000000       0.000000       0.000000\n",
      "25%         6.000000       0.000000      12.000000\n",
      "50%         8.000000      16.000000      84.000000\n",
      "75%        10.000000      79.000000     185.000000\n",
      "max      4832.000000   28693.000000   61437.000000\n"
     ]
    }
   ],
   "source": [
    "# Descripción estadística de las columnas de tiempo\n",
    "print(df[[\"vru_time\", \"q_time\", \"ser_time\"]].describe())\n",
    "\n",
    "#Observo si hay valores negativos, excesivamente altos, o fuera de rango para definir reglas para tratarlos"
   ]
  },
  {
   "cell_type": "code",
   "execution_count": 11,
   "metadata": {},
   "outputs": [],
   "source": [
    "#Corrección de los valores negativos en vru_time. Los ingresos de hora de entrada y salida estan al revés.\n",
    "# Identificar registros con vru_time negativo\n",
    "neg_vru_time_mask = df[\"vru_time\"] < 0\n",
    "\n",
    "# Intercambiar valores de vru_entry y vru_exit donde vru_time es negativo\n",
    "df.loc[neg_vru_time_mask, [\"vru_entry\", \"vru_exit\"]] = df.loc[neg_vru_time_mask, [\"vru_exit\", \"vru_entry\"]].values\n",
    "\n",
    "# Recalcular vru_time para corregir los valores negativos\n",
    "df[\"vru_time\"] = (pd.to_datetime(df[\"vru_exit\"], format=\"%H:%M:%S\") - pd.to_datetime(df[\"vru_entry\"], format=\"%H:%M:%S\")).dt.total_seconds()\n"
   ]
  },
  {
   "cell_type": "code",
   "execution_count": 12,
   "metadata": {},
   "outputs": [
    {
     "name": "stdout",
     "output_type": "stream",
     "text": [
      "            vru_time         q_time       ser_time\n",
      "count  444448.000000  444448.000000  444448.000000\n",
      "mean       10.396357      59.004304     152.561776\n",
      "std        34.909485     119.470328     282.372761\n",
      "min         0.000000       0.000000       0.000000\n",
      "25%         6.000000       0.000000      12.000000\n",
      "50%         8.000000      16.000000      84.000000\n",
      "75%        10.000000      79.000000     185.000000\n",
      "max      4832.000000   28693.000000   61437.000000\n"
     ]
    }
   ],
   "source": [
    "print(df[[\"vru_time\", \"q_time\", \"ser_time\"]].describe())"
   ]
  },
  {
   "cell_type": "code",
   "execution_count": 3,
   "metadata": {},
   "outputs": [],
   "source": [
    "#Visualizo los outliers (max) para definir una estrategia a seguir con los mismos\n",
    "import matplotlib.pyplot as plt\n",
    "import numpy as np\n",
    "%matplotlib inline"
   ]
  },
  {
   "cell_type": "code",
   "execution_count": 14,
   "metadata": {},
   "outputs": [
    {
     "data": {
      "image/png": "[encoded data removed]",
      "text/plain": [
       "<Figure size 1000x600 with 1 Axes>"
      ]
     },
     "metadata": {},
     "output_type": "display_data"
    }
   ],
   "source": [
    "plt.figure(figsize=(10, 6))\n",
    "plt.boxplot([df['vru_time'], df['q_time'], df['ser_time']], labels=['vru_time', 'q_time', 'ser_time'])\n",
    "plt.title('Boxplot de tiempos')\n",
    "plt.ylabel('Tiempo')\n",
    "plt.xlabel('Variables')\n",
    "plt.grid(True)\n",
    "plt.show()"
   ]
  },
  {
   "cell_type": "code",
   "execution_count": 15,
   "metadata": {},
   "outputs": [
    {
     "data": {
      "image/png": "[encoded data removed]",
      "text/plain": [
       "<Figure size 1000x600 with 1 Axes>"
      ]
     },
     "metadata": {},
     "output_type": "display_data"
    }
   ],
   "source": [
    "#Achico el rango de tiempo a una hora.\n",
    "plt.figure(figsize=(10, 6)) \n",
    "plt.boxplot([df['vru_time'], df['q_time'], df['ser_time']], labels=['vru_time', 'q_time', 'ser_time']) \n",
    "plt.ylim(0, 3600) # Establezco el límite del eje Y \n",
    "plt.title('Boxplot de tiempos') \n",
    "plt.ylabel('Tiempo') \n",
    "plt.xlabel('Variables') \n",
    "plt.grid(True)"
   ]
  },
  {
   "cell_type": "code",
   "execution_count": 16,
   "metadata": {},
   "outputs": [],
   "source": [
    "#Habiendo visto el gráfico decido filtrar algunos outliers mas. Considero raro tiempos de espera mayores a\n",
    "#10 minutos (600 segundos) y tiempos de servicio mayores a 30 minutos (1800 segundos)\n",
    "\n",
    "df = df[(df[\"ser_time\"] <= 1800) & (df[\"q_time\"] <= 600) & (df[\"vru_time\"] <= 600)]\n"
   ]
  },
  {
   "cell_type": "code",
   "execution_count": 17,
   "metadata": {},
   "outputs": [
    {
     "data": {
      "image/png": "[encoded data removed]",
      "text/plain": [
       "<Figure size 1000x600 with 1 Axes>"
      ]
     },
     "metadata": {},
     "output_type": "display_data"
    }
   ],
   "source": [
    "#Visualizo cómo quedó el filtrado.\n",
    "plt.figure(figsize=(10, 6)) \n",
    "plt.boxplot([df['vru_time'], df['q_time'], df['ser_time']], labels=['vru_time', 'q_time', 'ser_time']) \n",
    "plt.ylim(0, 1800) \n",
    "plt.title('Boxplot de tiempos') \n",
    "plt.ylabel('Tiempo') \n",
    "plt.xlabel('Variables') \n",
    "plt.grid(True)"
   ]
  },
  {
   "cell_type": "code",
   "execution_count": 18,
   "metadata": {},
   "outputs": [
    {
     "name": "stdout",
     "output_type": "stream",
     "text": [
      "           vru_time         q_time       ser_time\n",
      "count  441756.00000  441756.000000  441756.000000\n",
      "mean        9.69614      56.805363     145.542476\n",
      "std        16.91417      88.897732     201.958412\n",
      "min         0.00000       0.000000       0.000000\n",
      "25%         6.00000       0.000000      12.000000\n",
      "50%         8.00000      15.000000      84.000000\n",
      "75%        10.00000      78.000000     183.000000\n",
      "max       600.00000     600.000000    1800.000000\n"
     ]
    }
   ],
   "source": [
    "print(df[[\"vru_time\", \"q_time\", \"ser_time\"]].describe())"
   ]
  },
  {
   "cell_type": "code",
   "execution_count": null,
   "metadata": {},
   "outputs": [
    {
     "name": "stdout",
     "output_type": "stream",
     "text": [
      "        startdate       date vru_entry\n",
      "0               0 1999-01-01  00:00:31\n",
      "1               0 1999-01-01  00:34:12\n",
      "2               0 1999-01-01  06:55:20\n",
      "3               0 1999-01-01  07:41:16\n",
      "4               0 1999-01-01  08:03:14\n",
      "...           ...        ...       ...\n",
      "444443        334 1999-12-31  13:46:51\n",
      "444444        334 1999-12-31  13:58:31\n",
      "444445        334 1999-12-31  17:10:51\n",
      "444446        334 1999-12-31  18:30:19\n",
      "444447        334 1999-12-31  22:23:35\n",
      "\n",
      "[441756 rows x 3 columns]\n"
     ]
    }
   ],
   "source": [
    "#7) REVISAR SI TODAS LAS COLUMNAS TIENEN RELACION O SON NECESARIAS\n",
    "# Veo los registros de 'startdate', 'date' y 'vru_entry' para encontrar alguna relación de la columna startdate\n",
    "#con el resto de las columnas.\n",
    "print(df[[\"startdate\", \"date\", \"vru_entry\"]])\n"
   ]
  },
  {
   "cell_type": "code",
   "execution_count": null,
   "metadata": {},
   "outputs": [],
   "source": [
    "#Encuentro que los numeros en \"startdate\" corresponden a la sumatoria de los días del mes, es decir: \n",
    "#Enero = 0, \n",
    "#Febrero = 31 (pasaron 31 días y cambió de mes), \n",
    "#Marzo = 59 (31 días de Enero + 28 días de Febrero)...\n",
    "#Diciembre = 334; que si le sumamos los 31 días del mismo dan los 365 días del año.\n",
    "'''Teniendo la columna ´Fecha´ para realizar filtraciones, la confusión que puede surgir en un año bisiesto, la relación de \n",
    "los números con el mes no es la mas adecuada a mi entender, y que es la columna 18 de las 17 descriptas en el word decido\n",
    "borrarla.''' \n",
    "df = df.drop(df.columns[17], axis=1)"
   ]
  },
  {
   "cell_type": "code",
   "execution_count": 40,
   "metadata": {},
   "outputs": [],
   "source": [
    "df.to_csv('Call_Center_1999_DataSet_Limpio.csv', index=False)"
   ]
  },
  {
   "cell_type": "code",
   "execution_count": 4,
   "metadata": {},
   "outputs": [
    {
     "name": "stderr",
     "output_type": "stream",
     "text": [
      "C:\\Users\\nahue\\AppData\\Local\\Temp\\ipykernel_17924\\2598752475.py:1: DtypeWarning: Columns (2) have mixed types. Specify dtype option on import or set low_memory=False.\n",
      "  dfl = pd.read_csv('Call_Center_1999_DataSet_Limpio.csv', delimiter=',')\n"
     ]
    }
   ],
   "source": [
    "dfl = pd.read_csv('Call_Center_1999_DataSet_Limpio.csv', delimiter=',')"
   ]
  },
  {
   "cell_type": "code",
   "execution_count": 5,
   "metadata": {},
   "outputs": [
    {
     "data": {
      "text/html": [
       "<div>\n",
       "<style scoped>\n",
       "    .dataframe tbody tr th:only-of-type {\n",
       "        vertical-align: middle;\n",
       "    }\n",
       "\n",
       "    .dataframe tbody tr th {\n",
       "        vertical-align: top;\n",
       "    }\n",
       "\n",
       "    .dataframe thead th {\n",
       "        text-align: right;\n",
       "    }\n",
       "</style>\n",
       "<table border=\"1\" class=\"dataframe\">\n",
       "  <thead>\n",
       "    <tr style=\"text-align: right;\">\n",
       "      <th></th>\n",
       "      <th>vru.line</th>\n",
       "      <th>call_id</th>\n",
       "      <th>customer_id</th>\n",
       "      <th>priority</th>\n",
       "      <th>type</th>\n",
       "      <th>date</th>\n",
       "      <th>vru_entry</th>\n",
       "      <th>vru_exit</th>\n",
       "      <th>vru_time</th>\n",
       "      <th>q_start</th>\n",
       "      <th>q_exit</th>\n",
       "      <th>q_time</th>\n",
       "      <th>outcome</th>\n",
       "      <th>ser_start</th>\n",
       "      <th>ser_exit</th>\n",
       "      <th>ser_time</th>\n",
       "      <th>server</th>\n",
       "    </tr>\n",
       "  </thead>\n",
       "  <tbody>\n",
       "    <tr>\n",
       "      <th>0</th>\n",
       "      <td>AA0101</td>\n",
       "      <td>33116</td>\n",
       "      <td>9664491.0</td>\n",
       "      <td>2</td>\n",
       "      <td>PS</td>\n",
       "      <td>1999-01-01</td>\n",
       "      <td>00:00:31</td>\n",
       "      <td>00:00:36</td>\n",
       "      <td>5.0</td>\n",
       "      <td>00:00:36</td>\n",
       "      <td>00:03:09</td>\n",
       "      <td>153</td>\n",
       "      <td>HANG</td>\n",
       "      <td>00:00:00</td>\n",
       "      <td>00:00:00</td>\n",
       "      <td>0</td>\n",
       "      <td>NO_SERVER</td>\n",
       "    </tr>\n",
       "    <tr>\n",
       "      <th>1</th>\n",
       "      <td>AA0101</td>\n",
       "      <td>33117</td>\n",
       "      <td>0.0</td>\n",
       "      <td>0</td>\n",
       "      <td>PS</td>\n",
       "      <td>1999-01-01</td>\n",
       "      <td>00:34:12</td>\n",
       "      <td>00:34:23</td>\n",
       "      <td>11.0</td>\n",
       "      <td>00:00:00</td>\n",
       "      <td>00:00:00</td>\n",
       "      <td>0</td>\n",
       "      <td>HANG</td>\n",
       "      <td>00:00:00</td>\n",
       "      <td>00:00:00</td>\n",
       "      <td>0</td>\n",
       "      <td>NO_SERVER</td>\n",
       "    </tr>\n",
       "    <tr>\n",
       "      <th>2</th>\n",
       "      <td>AA0101</td>\n",
       "      <td>33118</td>\n",
       "      <td>27997683.0</td>\n",
       "      <td>2</td>\n",
       "      <td>PS</td>\n",
       "      <td>1999-01-01</td>\n",
       "      <td>06:55:20</td>\n",
       "      <td>06:55:26</td>\n",
       "      <td>6.0</td>\n",
       "      <td>06:55:26</td>\n",
       "      <td>06:55:43</td>\n",
       "      <td>17</td>\n",
       "      <td>AGENT</td>\n",
       "      <td>06:55:43</td>\n",
       "      <td>06:56:37</td>\n",
       "      <td>54</td>\n",
       "      <td>MICHAL</td>\n",
       "    </tr>\n",
       "    <tr>\n",
       "      <th>3</th>\n",
       "      <td>AA0101</td>\n",
       "      <td>33119</td>\n",
       "      <td>0.0</td>\n",
       "      <td>0</td>\n",
       "      <td>PS</td>\n",
       "      <td>1999-01-01</td>\n",
       "      <td>07:41:16</td>\n",
       "      <td>07:41:26</td>\n",
       "      <td>10.0</td>\n",
       "      <td>00:00:00</td>\n",
       "      <td>00:00:00</td>\n",
       "      <td>0</td>\n",
       "      <td>AGENT</td>\n",
       "      <td>07:41:25</td>\n",
       "      <td>07:44:53</td>\n",
       "      <td>208</td>\n",
       "      <td>BASCH</td>\n",
       "    </tr>\n",
       "    <tr>\n",
       "      <th>4</th>\n",
       "      <td>AA0101</td>\n",
       "      <td>33120</td>\n",
       "      <td>0.0</td>\n",
       "      <td>0</td>\n",
       "      <td>PS</td>\n",
       "      <td>1999-01-01</td>\n",
       "      <td>08:03:14</td>\n",
       "      <td>08:03:24</td>\n",
       "      <td>10.0</td>\n",
       "      <td>00:00:00</td>\n",
       "      <td>00:00:00</td>\n",
       "      <td>0</td>\n",
       "      <td>AGENT</td>\n",
       "      <td>08:03:23</td>\n",
       "      <td>08:05:10</td>\n",
       "      <td>107</td>\n",
       "      <td>MICHAL</td>\n",
       "    </tr>\n",
       "  </tbody>\n",
       "</table>\n",
       "</div>"
      ],
      "text/plain": [
       "  vru.line  call_id customer_id  priority type        date vru_entry  \\\n",
       "0   AA0101    33116   9664491.0         2   PS  1999-01-01  00:00:31   \n",
       "1   AA0101    33117         0.0         0   PS  1999-01-01  00:34:12   \n",
       "2   AA0101    33118  27997683.0         2   PS  1999-01-01  06:55:20   \n",
       "3   AA0101    33119         0.0         0   PS  1999-01-01  07:41:16   \n",
       "4   AA0101    33120         0.0         0   PS  1999-01-01  08:03:14   \n",
       "\n",
       "   vru_exit  vru_time   q_start    q_exit  q_time outcome ser_start  ser_exit  \\\n",
       "0  00:00:36       5.0  00:00:36  00:03:09     153    HANG  00:00:00  00:00:00   \n",
       "1  00:34:23      11.0  00:00:00  00:00:00       0    HANG  00:00:00  00:00:00   \n",
       "2  06:55:26       6.0  06:55:26  06:55:43      17   AGENT  06:55:43  06:56:37   \n",
       "3  07:41:26      10.0  00:00:00  00:00:00       0   AGENT  07:41:25  07:44:53   \n",
       "4  08:03:24      10.0  00:00:00  00:00:00       0   AGENT  08:03:23  08:05:10   \n",
       "\n",
       "   ser_time     server  \n",
       "0         0  NO_SERVER  \n",
       "1         0  NO_SERVER  \n",
       "2        54     MICHAL  \n",
       "3       208      BASCH  \n",
       "4       107     MICHAL  "
      ]
     },
     "execution_count": 5,
     "metadata": {},
     "output_type": "execute_result"
    }
   ],
   "source": [
    "dfl.head()"
   ]
  },
  {
   "cell_type": "code",
   "execution_count": null,
   "metadata": {},
   "outputs": [],
   "source": [
    "'''Defino los KPIs para medir los objetivos:\n",
    "\n",
    "Nivel de Servicio (SLA) para Clientes Prioritarios:\n",
    "\n",
    "Tiempo promedio de espera (q_time) y porcentaje de llamadas atendidas dentro del tiempo de espera establecido \n",
    "(por ejemplo, 1.5 minutos para clientes de alta prioridad).\n",
    "Tiempo promedio en el sistema (vru_time + q_time + ser_time).\n",
    "\n",
    "Eficiencia Operativa:\n",
    "\n",
    "Tasa de abandono en cola (outcome = \"HANG\").\n",
    "Tiempo de resolución promedio (ser_time).\n",
    "Porcentaje de ocupación de agentes (tiempo en servicio sobre el tiempo total).\n",
    "\n",
    "Satisfacción del Cliente:\n",
    "\n",
    "Tiempo de atención para clientes de alta prioridad vs. regular.\n",
    "Distribución del resultado de llamadas (atendidas, colgadas, y \"phantom\")'''"
   ]
  },
  {
   "cell_type": "code",
   "execution_count": 6,
   "metadata": {},
   "outputs": [
    {
     "name": "stdout",
     "output_type": "stream",
     "text": [
      "Tiempo promedio de espera en cola para clientes prioritarios: 85 segundos\n",
      "Porcentaje de llamadas dentro del SLA (90 segundos): 67.22%\n"
     ]
    }
   ],
   "source": [
    "#Pregunta 1 - ¿Cuál es el nivel de servicio para los clientes Prioritarios?\n",
    "\n",
    "# Filtrar clientes de alta prioridad\n",
    "dfl_priority = dfl[dfl[\"priority\"] == 2]\n",
    "# Tiempo promedio de espera en cola (q_time)\n",
    "promedio_espera = dfl_priority[\"q_time\"].mean()\n",
    "promedio_espera_redondeado = round(promedio_espera)\n",
    "print(f\"Tiempo promedio de espera en cola para clientes prioritarios: {promedio_espera_redondeado} segundos\")\n",
    "# Calcular porcentaje de llamadas con espera <= 90 segundos (SLA)\n",
    "porcentaje_sla = (dfl_priority[\"q_time\"] <= 90).mean() * 100\n",
    "print(f\"Porcentaje de llamadas dentro del SLA (90 segundos): {porcentaje_sla:.2f}%\")\n"
   ]
  },
  {
   "cell_type": "code",
   "execution_count": 8,
   "metadata": {},
   "outputs": [
    {
     "name": "stdout",
     "output_type": "stream",
     "text": [
      "Tiempo promedio en el sistema para clientes prioritarios: 264 segundos\n"
     ]
    }
   ],
   "source": [
    "# Tiempo total en el sistema (vru_time + q_time + ser_time)\n",
    "dfl_priority.loc[:, \"total_time\"] = dfl_priority[\"vru_time\"] + dfl_priority[\"q_time\"] + dfl_priority[\"ser_time\"]\n",
    "tiempo_total_promedio_en_sistema = dfl_priority[\"total_time\"].mean()\n",
    "tiempo_total_promedio_en_sistema_redondeado = round(tiempo_total_promedio_en_sistema)\n",
    "print(f\"Tiempo promedio en el sistema para clientes prioritarios: {tiempo_total_promedio_en_sistema_redondeado} segundos\")\n",
    "\n",
    "#.loc[:, \"total_time\"] se asegura de que estás asignando la nueva columna 'total_time' directamente en dfl_priority, \n",
    "#sin crear una copia temporal."
   ]
  },
  {
   "cell_type": "code",
   "execution_count": 9,
   "metadata": {},
   "outputs": [
    {
     "name": "stdout",
     "output_type": "stream",
     "text": [
      "Tasa de abandono - Clientes prioritarios: 14.24%\n"
     ]
    }
   ],
   "source": [
    "#Tasa de abandono\n",
    "tasa_abandono_prioritarios = (dfl_priority[\"outcome\"] == \"HANG\").mean() * 100\n",
    "print(f\"Tasa de abandono - Clientes prioritarios: {tasa_abandono_prioritarios:.2f}%\")"
   ]
  },
  {
   "cell_type": "code",
   "execution_count": 10,
   "metadata": {},
   "outputs": [
    {
     "name": "stdout",
     "output_type": "stream",
     "text": [
      "El tiempo de resolucion promedio es 172.98 segundos\n"
     ]
    }
   ],
   "source": [
    "#Tiempo de resolución promedio (ser_time)\n",
    "tiempo_resolucion_promedio = dfl_priority[\"ser_time\"].mean()\n",
    "print(f'El tiempo de resolucion promedio es {tiempo_resolucion_promedio:.2f} segundos')"
   ]
  },
  {
   "cell_type": "code",
   "execution_count": 11,
   "metadata": {},
   "outputs": [
    {
     "name": "stdout",
     "output_type": "stream",
     "text": [
      "Porcentaje de ocupación de agentes para clientes prioritarios: 15.96%\n"
     ]
    }
   ],
   "source": [
    "#Porcentaje de ocupación de agentes (tiempo en servicio a prioritarios sobre el tiempo total)\n",
    "\n",
    "# 1. Tiempo total en servicio de agentes para clientes prioritarios\n",
    "total_ser_time_prioritarios = dfl_priority[\"ser_time\"].sum()\n",
    "\n",
    "# 2. Calcular tiempo total disponible de los agentes (en segundos)\n",
    "# Sabiendo del word que el horario de atencion es de domingo a jueves (17 horas/día) y viernes a sábado (7 horas)\n",
    "horas_semanales = (5 * 17 + 2 * 7)  # Total de horas por semana\n",
    "segundos_semanales = horas_semanales * 3600\n",
    "numero_agentes = 8\n",
    "tiempo_disponible_total = segundos_semanales * numero_agentes * 52 #(cantidad de semanas en el año)\n",
    "\n",
    "# 3. Porcentaje de ocupación\n",
    "porcentaje_ocupacion = (total_ser_time_prioritarios / tiempo_disponible_total) * 100\n",
    "print(f\"Porcentaje de ocupación de agentes para clientes prioritarios: {porcentaje_ocupacion:.2f}%\")\n"
   ]
  },
  {
   "cell_type": "code",
   "execution_count": 18,
   "metadata": {},
   "outputs": [
    {
     "name": "stdout",
     "output_type": "stream",
     "text": [
      "Tiempo promedio de espera en cola para clientes normales: 44 segundos\n",
      "Tiempo promedio en el sistema para clientes normales: 189 segundos\n",
      "Tasa de abandono - Clientes normales: 22.18%\n",
      "El tiempo de resolucion promedio para clientes normales es 133.24 segundos\n"
     ]
    },
    {
     "name": "stderr",
     "output_type": "stream",
     "text": [
      "C:\\Users\\nahue\\AppData\\Local\\Temp\\ipykernel_17924\\611609915.py:12: SettingWithCopyWarning: \n",
      "A value is trying to be set on a copy of a slice from a DataFrame.\n",
      "Try using .loc[row_indexer,col_indexer] = value instead\n",
      "\n",
      "See the caveats in the documentation: https://pandas.pydata.org/pandas-docs/stable/user_guide/indexing.html#returning-a-view-versus-a-copy\n",
      "  dfl_normales.loc[:, \"total_time_n\"] = dfl_normales[\"vru_time\"] + dfl_normales[\"q_time\"] + dfl_normales[\"ser_time\"]\n"
     ]
    }
   ],
   "source": [
    "#Pregunta 2 - ¿Damos un mejor servicio que a los clientes normales?\n",
    "\n",
    "# Filtrar clientes normales\n",
    "dfl_normales = dfl[(dfl[\"priority\"] == 0) | (dfl[\"priority\"] == 1)]\n",
    "\n",
    "# Tiempo promedio de espera en cola (q_time)\n",
    "promedio_espera_normales = dfl_normales[\"q_time\"].mean()\n",
    "promedio_espera_redondeado_normales = round(promedio_espera_normales)\n",
    "print(f\"Tiempo promedio de espera en cola para clientes normales: {promedio_espera_redondeado_normales} segundos\")\n",
    "\n",
    "# Tiempo total en el sistema (vru_time + q_time + ser_time)\n",
    "dfl_normales.loc[:, \"total_time_n\"] = dfl_normales[\"vru_time\"] + dfl_normales[\"q_time\"] + dfl_normales[\"ser_time\"]\n",
    "tiempo_total_promedio_en_sistema_normales = dfl_normales[\"total_time_n\"].mean()\n",
    "tiempo_total_promedio_en_sistema_normales_redondeado = round(tiempo_total_promedio_en_sistema_normales)\n",
    "print(f\"Tiempo promedio en el sistema para clientes normales: {tiempo_total_promedio_en_sistema_normales_redondeado} segundos\")\n",
    "\n",
    "#Tasa de abandono\n",
    "tasa_abandono_normales = (dfl_normales[\"outcome\"] == \"HANG\").mean() * 100\n",
    "print(f\"Tasa de abandono - Clientes normales: {tasa_abandono_normales:.2f}%\")\n",
    "\n",
    "#Tiempo de resolución promedio (ser_time)\n",
    "tiempo_resolucion_promedio_normales = dfl_normales[\"ser_time\"].mean()\n",
    "print(f'El tiempo de resolucion promedio para clientes normales es {tiempo_resolucion_promedio_normales:.2f} segundos')"
   ]
  },
  {
   "cell_type": "code",
   "execution_count": null,
   "metadata": {},
   "outputs": [
    {
     "name": "stdout",
     "output_type": "stream",
     "text": [
      "Porcentaje de ocupación de agentes para clientes normales: 27.41%\n"
     ]
    }
   ],
   "source": [
    "#Porcentaje de ocupación de agentes (tiempo en servicio a normales sobre el tiempo total)\n",
    "\n",
    "# 1. Tiempo total en servicio de agentes para clientes normales\n",
    "total_ser_time_normales = dfl_normales[\"ser_time\"].sum()\n",
    "\n",
    "# 2. Calcular tiempo total disponible de los agentes (en segundos)\n",
    "# Sabiendo del word que el horario de atencion es de domingo a jueves (17 horas/día) y viernes a sábado (7 horas)\n",
    "horas_semanales = (5 * 17 + 2 * 7)  # Total de horas por semana\n",
    "segundos_semanales = horas_semanales * 3600\n",
    "numero_agentes = 8\n",
    "tiempo_disponible_total = segundos_semanales * numero_agentes * 52 #(52 = cantidad de semanas en el año)\n",
    "\n",
    "# 3. Porcentaje de ocupación\n",
    "porcentaje_ocupacion_normales = (total_ser_time_normales / tiempo_disponible_total) * 100\n",
    "print(f\"Porcentaje de ocupación de agentes para clientes normales: {porcentaje_ocupacion_normales:.2f}%\")"
   ]
  },
  {
   "cell_type": "code",
   "execution_count": 16,
   "metadata": {},
   "outputs": [
    {
     "data": {
      "text/html": [
       "<div>\n",
       "<style scoped>\n",
       "    .dataframe tbody tr th:only-of-type {\n",
       "        vertical-align: middle;\n",
       "    }\n",
       "\n",
       "    .dataframe tbody tr th {\n",
       "        vertical-align: top;\n",
       "    }\n",
       "\n",
       "    .dataframe thead th {\n",
       "        text-align: right;\n",
       "    }\n",
       "</style>\n",
       "<table border=\"1\" class=\"dataframe\">\n",
       "  <thead>\n",
       "    <tr style=\"text-align: right;\">\n",
       "      <th></th>\n",
       "      <th>KPI</th>\n",
       "      <th>Clientes Normales</th>\n",
       "      <th>Clientes Prioritarios</th>\n",
       "    </tr>\n",
       "  </thead>\n",
       "  <tbody>\n",
       "    <tr>\n",
       "      <th>0</th>\n",
       "      <td>Tiempo promedio de espera en cola</td>\n",
       "      <td>44.184593</td>\n",
       "      <td>84.953128</td>\n",
       "    </tr>\n",
       "    <tr>\n",
       "      <th>1</th>\n",
       "      <td>Tiempo promedio en el sistema</td>\n",
       "      <td>188.907187</td>\n",
       "      <td>263.645344</td>\n",
       "    </tr>\n",
       "    <tr>\n",
       "      <th>2</th>\n",
       "      <td>Tasa de abandono</td>\n",
       "      <td>22.177632</td>\n",
       "      <td>14.242989</td>\n",
       "    </tr>\n",
       "    <tr>\n",
       "      <th>3</th>\n",
       "      <td>Tiempo de resolución promedio</td>\n",
       "      <td>133.239966</td>\n",
       "      <td>172.980432</td>\n",
       "    </tr>\n",
       "    <tr>\n",
       "      <th>4</th>\n",
       "      <td>Porcentaje de ocupación de agentes</td>\n",
       "      <td>27.409730</td>\n",
       "      <td>15.955454</td>\n",
       "    </tr>\n",
       "  </tbody>\n",
       "</table>\n",
       "</div>"
      ],
      "text/plain": [
       "                                  KPI  Clientes Normales  \\\n",
       "0   Tiempo promedio de espera en cola          44.184593   \n",
       "1       Tiempo promedio en el sistema         188.907187   \n",
       "2                    Tasa de abandono          22.177632   \n",
       "3       Tiempo de resolución promedio         133.239966   \n",
       "4  Porcentaje de ocupación de agentes          27.409730   \n",
       "\n",
       "   Clientes Prioritarios  \n",
       "0              84.953128  \n",
       "1             263.645344  \n",
       "2              14.242989  \n",
       "3             172.980432  \n",
       "4              15.955454  "
      ]
     },
     "execution_count": 16,
     "metadata": {},
     "output_type": "execute_result"
    }
   ],
   "source": [
    "\n",
    "# Diccionario con los resultados de los KPIs para cada grupo de clientes\n",
    "kpi_data = {\n",
    "    \"KPI\": [\n",
    "        \"Tiempo promedio de espera en cola\",\n",
    "        \"Tiempo promedio en el sistema\",\n",
    "        \"Tasa de abandono\",\n",
    "        \"Tiempo de resolución promedio\",\n",
    "        \"Porcentaje de ocupación de agentes\"\n",
    "    ],\n",
    "    \"Clientes Normales\": [\n",
    "        promedio_espera_normales,\n",
    "        tiempo_total_promedio_en_sistema_normales,\n",
    "        tasa_abandono_normales,\n",
    "        tiempo_resolucion_promedio_normales,\n",
    "        porcentaje_ocupacion_normales\n",
    "    ],\n",
    "    \"Clientes Prioritarios\": [\n",
    "        promedio_espera,\n",
    "        tiempo_total_promedio_en_sistema,\n",
    "        tasa_abandono_prioritarios,\n",
    "        tiempo_resolucion_promedio,\n",
    "        porcentaje_ocupacion\n",
    "    ]\n",
    "}\n",
    "\n",
    "# Convertir a DataFrame para facilitar la visualización\n",
    "kpi_dfl = pd.DataFrame(kpi_data)\n",
    "kpi_dfl\n"
   ]
  },
  {
   "cell_type": "code",
   "execution_count": null,
   "metadata": {},
   "outputs": [
    {
     "data": {
      "image/png": "[encoded data removed]",
      "text/plain": [
       "<Figure size 1000x600 with 1 Axes>"
      ]
     },
     "metadata": {},
     "output_type": "display_data"
    }
   ],
   "source": [
    "# Configurar el tamaño de la figura\n",
    "plt.figure(figsize=(10, 6))\n",
    "\n",
    "# Crear gráfico de barras agrupadas\n",
    "bar_width = 0.35  # Ancho de las barras\n",
    "x = range(len(kpi_dfl))  # Posiciones para los grupos de barras\n",
    "\n",
    "# Graficar cada grupo de clientes\n",
    "plt.bar(x, kpi_dfl[\"Clientes Normales\"], width=bar_width, label=\"Clientes Normales\", color=\"skyblue\")\n",
    "plt.bar([p + bar_width for p in x], kpi_dfl[\"Clientes Prioritarios\"], width=bar_width, label=\"Clientes Prioritarios\", color=\"salmon\")\n",
    "\n",
    "# Configuración del gráfico\n",
    "plt.xlabel(\"KPI\")\n",
    "plt.ylabel(\"Valor en segundos\")\n",
    "plt.title(\"Comparación de KPIs entre Clientes Normales y Prioritarios\")\n",
    "plt.xticks([p + bar_width / 2 for p in x], kpi_dfl[\"KPI\"], rotation=45, ha=\"right\")\n",
    "plt.legend()\n",
    "\n",
    "# Mostrar gráfico\n",
    "plt.tight_layout()\n",
    "plt.show()\n",
    "\n",
    "'''x = range(len(kpi_df))\n",
    "Propósito: Crear una lista de posiciones (números enteros) para ubicar las barras de cada KPI en el eje X.\n",
    "Explicación: len(kpi_df) devuelve el número de KPIs, es decir, el número de categorías que estamos comparando.\n",
    "Ejemplo: Si tienes 5 KPIs, entonces range(len(kpi_df)) generará [0, 1, 2, 3, 4], lo cual indica las posiciones iniciales en el eje X para las \n",
    "barras de cada KPI.\n",
    "\n",
    "[p + bar_width for p in x]\n",
    "Propósito: Desplazar las posiciones de las barras de \"Clientes Prioritarios\" para que aparezcan al lado de las barras de \"Clientes Normales\".\n",
    "Explicación: bar_width representa el ancho de cada barra (por ejemplo, 0.35). Al sumar bar_width a cada posición en x, estás desplazando \n",
    "las posiciones de las barras del segundo grupo (Clientes Prioritarios) a la derecha.\n",
    "\n",
    "Ejemplo: Supón que x = [0, 1, 2, 3, 4] y bar_width = 0.35. Entonces [p + bar_width for p in x] se convertirá en [0.35, 1.35, 2.35, 3.35, 4.35], \n",
    "ubicando las barras de \"Clientes Prioritarios\" a la derecha de las de \"Clientes Normales\".'''"
   ]
  },
  {
   "cell_type": "code",
   "execution_count": null,
   "metadata": {},
   "outputs": [],
   "source": [
    "#CONCLUSIÓN HASTA DONDE LLEGUÉ:\n",
    "#Los clientes prioritarios, no tienen nada de prioritarios, al contrario."
   ]
  }
 ],
 "metadata": {
  "kernelspec": {
   "display_name": "Python 3",
   "language": "python",
   "name": "python3"
  },
  "language_info": {
   "codemirror_mode": {
    "name": "ipython",
    "version": 3
   },
   "file_extension": ".py",
   "mimetype": "text/x-python",
   "name": "python",
   "nbconvert_exporter": "python",
   "pygments_lexer": "ipython3",
   "version": "3.9.7"
  }
 },
 "nbformat": 4,
 "nbformat_minor": 2
}
